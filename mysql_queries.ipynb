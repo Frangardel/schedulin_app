{
 "metadata": {
  "language_info": {
   "codemirror_mode": {
    "name": "ipython",
    "version": 3
   },
   "file_extension": ".py",
   "mimetype": "text/x-python",
   "name": "python",
   "nbconvert_exporter": "python",
   "pygments_lexer": "ipython3",
   "version": "3.9.2-final"
  },
  "orig_nbformat": 2,
  "kernelspec": {
   "name": "python3",
   "display_name": "Python 3 (ipykernel)"
  }
 },
 "nbformat": 4,
 "nbformat_minor": 2,
 "cells": [
  {
   "cell_type": "code",
   "execution_count": 2,
   "metadata": {},
   "outputs": [],
   "source": [
    "from sqlalchemy import create_engine"
   ]
  },
  {
   "cell_type": "code",
   "execution_count": 3,
   "metadata": {},
   "outputs": [],
   "source": [
    "user = \"schedulin\"\n",
    "passw = \"MySQLIsFun\"\n",
    "host = \"35.231.228.133\"\n",
    "database = \"schedulin\""
   ]
  },
  {
   "cell_type": "code",
   "execution_count": 4,
   "metadata": {},
   "outputs": [],
   "source": [
    "db = create_engine(\n",
    "    'mysql+pymysql://{0}:{1}@{2}/{3}' \\\n",
    "        .format(user, passw, host, database), \\\n",
    "    connect_args = {'connect_timeout': 10})\n",
    "conn = db.connect()"
   ]
  },
  {
   "cell_type": "code",
   "execution_count": 5,
   "metadata": {},
   "outputs": [],
   "source": [
    "def query_db(query):\n",
    "    results = conn.execute(query).fetchall()\n",
    "    for r in results:\n",
    "        print(r)"
   ]
  },
  {
   "cell_type": "code",
   "execution_count": 36,
   "metadata": {},
   "outputs": [
    {
     "output_type": "stream",
     "name": "stdout",
     "text": [
      "('reservation',)\n('resource',)\n('timetable',)\n('user',)\n"
     ]
    }
   ],
   "source": [
    "query = \"\"\"\n",
    "    SHOW TABLES;\n",
    "\"\"\"\n",
    "query_db(query)"
   ]
  },
  {
   "cell_type": "code",
   "execution_count": 60,
   "metadata": {},
   "outputs": [
    {
     "output_type": "stream",
     "name": "stdout",
     "text": [
      "(29151,)\n"
     ]
    }
   ],
   "source": [
    "query = \"\"\"\n",
    "    SELECT \n",
    "        COUNT(*) \n",
    "    FROM reservation;\n",
    "\"\"\"\n",
    "query_db(query)"
   ]
  },
  {
   "cell_type": "code",
   "execution_count": 13,
   "metadata": {},
   "outputs": [
    {
     "output_type": "stream",
     "name": "stdout",
     "text": [
      "('PADEL',)\n('PISCINA',)\n('GIMNASIO',)\n('SALA COMUN',)\n"
     ]
    }
   ],
   "source": [
    "query = \"\"\"\n",
    "    SELECT \n",
    "        DISTINCT \n",
    "            type \n",
    "    FROM resource;\n",
    "\"\"\"\n",
    "query_db(query)"
   ]
  },
  {
   "cell_type": "code",
   "execution_count": 14,
   "metadata": {},
   "outputs": [
    {
     "output_type": "stream",
     "name": "stdout",
     "text": [
      "('GIMNASIO', Decimal('5.00'))\n('SALA COMUN', Decimal('5.00'))\n"
     ]
    }
   ],
   "source": [
    "query = \"\"\"\n",
    "    SELECT \n",
    "        type,\n",
    "        price    \n",
    "    FROM resource\n",
    "    WHERE price = (\n",
    "        SELECT \n",
    "            MAX(price) AS max\n",
    "        FROM resource\n",
    "        GROUP BY type\n",
    "        ORDER BY MAX(price) DESC\n",
    "        LIMIT 1);\n",
    "\"\"\"\n",
    "query_db(query)"
   ]
  },
  {
   "cell_type": "code",
   "execution_count": 16,
   "metadata": {},
   "outputs": [
    {
     "output_type": "stream",
     "name": "stdout",
     "text": [
      "('09:00', '22:30')\n"
     ]
    }
   ],
   "source": [
    "query = \"\"\"\n",
    "    SELECT \n",
    "        MIN(start_time), \n",
    "        MAX(end_time) \n",
    "    FROM timetable AS t \n",
    "    LEFT JOIN resource AS r \n",
    "    ON t.id = r.timetable_id \n",
    "    WHERE r.type = 'PADEL';\n",
    "\"\"\"\n",
    "query_db(query)"
   ]
  },
  {
   "cell_type": "code",
   "execution_count": 19,
   "metadata": {},
   "outputs": [
    {
     "output_type": "stream",
     "name": "stdout",
     "text": [
      "(datetime.timedelta(seconds=5400),)\n"
     ]
    }
   ],
   "source": [
    "query = \"\"\"\n",
    "    SELECT \n",
    "        DISTINCT\n",
    "            TIMEDIFF(\n",
    "            STR_TO_DATE(end_time,'%%H:%%i'), \n",
    "            STR_TO_DATE(start_time,'%%H:%%i'))\n",
    "    FROM timetable AS t \n",
    "    LEFT JOIN resource AS r \n",
    "    ON t.id = r.timetable_id \n",
    "    WHERE r.type = 'PADEL';\n",
    "\"\"\"\n",
    "query_db(query)"
   ]
  },
  {
   "cell_type": "code",
   "execution_count": 20,
   "metadata": {},
   "outputs": [
    {
     "output_type": "stream",
     "name": "stdout",
     "text": [
      "(Decimal('6.5714'),)\n"
     ]
    }
   ],
   "source": [
    "query = \"\"\"\n",
    "    SELECT\n",
    "        AVG(hours_in_advance) AS hours\n",
    "    FROM resource;\n",
    "\"\"\"\n",
    "query_db(query)"
   ]
  },
  {
   "cell_type": "code",
   "execution_count": 21,
   "metadata": {},
   "outputs": [
    {
     "output_type": "stream",
     "name": "stdout",
     "text": [
      "(Decimal('1.857143'),)\n"
     ]
    }
   ],
   "source": [
    "query = \"\"\"\n",
    "    SELECT\n",
    "        AVG(price) AS price\n",
    "    FROM resource;\n",
    "\"\"\"\n",
    "query_db(query)"
   ]
  },
  {
   "cell_type": "code",
   "execution_count": 22,
   "metadata": {},
   "outputs": [
    {
     "output_type": "stream",
     "name": "stdout",
     "text": [
      "(380,)\n"
     ]
    }
   ],
   "source": [
    "query = \"\"\"\n",
    "    SELECT\n",
    "    --    COUNT(DISTINCT(email)) AS users\n",
    "        COUNT(ID) AS users\n",
    "    FROM user;\n",
    "\"\"\"\n",
    "query_db(query)"
   ]
  },
  {
   "cell_type": "code",
   "execution_count": 23,
   "metadata": {},
   "outputs": [
    {
     "output_type": "stream",
     "name": "stdout",
     "text": [
      "(45,)\n"
     ]
    }
   ],
   "source": [
    "query = \"\"\"\n",
    "    SELECT\n",
    "        COUNT(ID) AS users\n",
    "    FROM user\n",
    "    WHERE status = 'INACTIVE';\n",
    "\"\"\"\n",
    "query_db(query)"
   ]
  },
  {
   "cell_type": "code",
   "execution_count": 31,
   "metadata": {},
   "outputs": [],
   "source": [
    "query = \"\"\"\n",
    "    SELECT \n",
    "        email\n",
    "    FROM user\n",
    "    WHERE deletion_date IS NOT NULL;\n",
    "\"\"\"\n",
    "query_db(query)"
   ]
  },
  {
   "cell_type": "code",
   "execution_count": 32,
   "metadata": {},
   "outputs": [],
   "source": [
    "query = \"\"\"\n",
    "    SELECT\n",
    "        email\n",
    "    FROM user\n",
    "    WHERE deletion_date IS NOT NULL\n",
    "        AND status = 'ACTIVE';\n",
    "\"\"\"\n",
    "query_db(query)"
   ]
  },
  {
   "cell_type": "code",
   "execution_count": 33,
   "metadata": {},
   "outputs": [],
   "source": [
    "query = \"\"\"\n",
    "    SELECT\n",
    "        DATE(deletion_date),\n",
    "        COUNT(deletion_date) AS total\n",
    "    FROM user\n",
    "    WHERE deletion_date IS NOT NULL\n",
    "    GROUP BY DATE(deletion_date)\n",
    "    LIMIT 1;\n",
    "\"\"\"\n",
    "query_db(query)"
   ]
  },
  {
   "cell_type": "code",
   "execution_count": 34,
   "metadata": {},
   "outputs": [
    {
     "output_type": "error",
     "ename": "OperationalError",
     "evalue": "(pymysql.err.OperationalError) (1525, \"Incorrect DATE value: 'NULL'\")\n[SQL: \n    SELECT\n        u.id, \n        u.deletion_date, \n        r.date\n    FROM (\n        SELECT id, DATE(deletion_date) AS deletion_date\n        FROM user\n        WHERE deletion_date IS NOT NULL) AS u\n    INNER JOIN (\n        SELECT *\n        FROM reservation) AS r\n    ON u.id = r.user_id\n        AND u.deletion_date < r.date\n        AND (r.date IS NOT NULL\n            OR r.date != 'NULL');\n]\n(Background on this error at: https://sqlalche.me/e/14/e3q8)",
     "traceback": [
      "\u001b[0;31m---------------------------------------------------------------------------\u001b[0m",
      "\u001b[0;31mOperationalError\u001b[0m                          Traceback (most recent call last)",
      "File \u001b[0;32m~/.local/lib/python3.9/site-packages/sqlalchemy/engine/base.py:1819\u001b[0m, in \u001b[0;36mConnection._execute_context\u001b[0;34m(self, dialect, constructor, statement, parameters, execution_options, *args, **kw)\u001b[0m\n\u001b[1;32m   1818\u001b[0m     \u001b[38;5;28;01mif\u001b[39;00m \u001b[38;5;129;01mnot\u001b[39;00m evt_handled:\n\u001b[0;32m-> 1819\u001b[0m         \u001b[38;5;28;43mself\u001b[39;49m\u001b[38;5;241;43m.\u001b[39;49m\u001b[43mdialect\u001b[49m\u001b[38;5;241;43m.\u001b[39;49m\u001b[43mdo_execute\u001b[49m\u001b[43m(\u001b[49m\n\u001b[1;32m   1820\u001b[0m \u001b[43m            \u001b[49m\u001b[43mcursor\u001b[49m\u001b[43m,\u001b[49m\u001b[43m \u001b[49m\u001b[43mstatement\u001b[49m\u001b[43m,\u001b[49m\u001b[43m \u001b[49m\u001b[43mparameters\u001b[49m\u001b[43m,\u001b[49m\u001b[43m \u001b[49m\u001b[43mcontext\u001b[49m\n\u001b[1;32m   1821\u001b[0m \u001b[43m        \u001b[49m\u001b[43m)\u001b[49m\n\u001b[1;32m   1823\u001b[0m \u001b[38;5;28;01mif\u001b[39;00m \u001b[38;5;28mself\u001b[39m\u001b[38;5;241m.\u001b[39m_has_events \u001b[38;5;129;01mor\u001b[39;00m \u001b[38;5;28mself\u001b[39m\u001b[38;5;241m.\u001b[39mengine\u001b[38;5;241m.\u001b[39m_has_events:\n",
      "File \u001b[0;32m~/.local/lib/python3.9/site-packages/sqlalchemy/engine/default.py:732\u001b[0m, in \u001b[0;36mDefaultDialect.do_execute\u001b[0;34m(self, cursor, statement, parameters, context)\u001b[0m\n\u001b[1;32m    731\u001b[0m \u001b[38;5;28;01mdef\u001b[39;00m \u001b[38;5;21mdo_execute\u001b[39m(\u001b[38;5;28mself\u001b[39m, cursor, statement, parameters, context\u001b[38;5;241m=\u001b[39m\u001b[38;5;28;01mNone\u001b[39;00m):\n\u001b[0;32m--> 732\u001b[0m     \u001b[43mcursor\u001b[49m\u001b[38;5;241;43m.\u001b[39;49m\u001b[43mexecute\u001b[49m\u001b[43m(\u001b[49m\u001b[43mstatement\u001b[49m\u001b[43m,\u001b[49m\u001b[43m \u001b[49m\u001b[43mparameters\u001b[49m\u001b[43m)\u001b[49m\n",
      "File \u001b[0;32m~/.local/lib/python3.9/site-packages/pymysql/cursors.py:148\u001b[0m, in \u001b[0;36mCursor.execute\u001b[0;34m(self, query, args)\u001b[0m\n\u001b[1;32m    146\u001b[0m query \u001b[38;5;241m=\u001b[39m \u001b[38;5;28mself\u001b[39m\u001b[38;5;241m.\u001b[39mmogrify(query, args)\n\u001b[0;32m--> 148\u001b[0m result \u001b[38;5;241m=\u001b[39m \u001b[38;5;28;43mself\u001b[39;49m\u001b[38;5;241;43m.\u001b[39;49m\u001b[43m_query\u001b[49m\u001b[43m(\u001b[49m\u001b[43mquery\u001b[49m\u001b[43m)\u001b[49m\n\u001b[1;32m    149\u001b[0m \u001b[38;5;28mself\u001b[39m\u001b[38;5;241m.\u001b[39m_executed \u001b[38;5;241m=\u001b[39m query\n",
      "File \u001b[0;32m~/.local/lib/python3.9/site-packages/pymysql/cursors.py:310\u001b[0m, in \u001b[0;36mCursor._query\u001b[0;34m(self, q)\u001b[0m\n\u001b[1;32m    309\u001b[0m \u001b[38;5;28mself\u001b[39m\u001b[38;5;241m.\u001b[39m_clear_result()\n\u001b[0;32m--> 310\u001b[0m \u001b[43mconn\u001b[49m\u001b[38;5;241;43m.\u001b[39;49m\u001b[43mquery\u001b[49m\u001b[43m(\u001b[49m\u001b[43mq\u001b[49m\u001b[43m)\u001b[49m\n\u001b[1;32m    311\u001b[0m \u001b[38;5;28mself\u001b[39m\u001b[38;5;241m.\u001b[39m_do_get_result()\n",
      "File \u001b[0;32m~/.local/lib/python3.9/site-packages/pymysql/connections.py:548\u001b[0m, in \u001b[0;36mConnection.query\u001b[0;34m(self, sql, unbuffered)\u001b[0m\n\u001b[1;32m    547\u001b[0m \u001b[38;5;28mself\u001b[39m\u001b[38;5;241m.\u001b[39m_execute_command(COMMAND\u001b[38;5;241m.\u001b[39mCOM_QUERY, sql)\n\u001b[0;32m--> 548\u001b[0m \u001b[38;5;28mself\u001b[39m\u001b[38;5;241m.\u001b[39m_affected_rows \u001b[38;5;241m=\u001b[39m \u001b[38;5;28;43mself\u001b[39;49m\u001b[38;5;241;43m.\u001b[39;49m\u001b[43m_read_query_result\u001b[49m\u001b[43m(\u001b[49m\u001b[43munbuffered\u001b[49m\u001b[38;5;241;43m=\u001b[39;49m\u001b[43munbuffered\u001b[49m\u001b[43m)\u001b[49m\n\u001b[1;32m    549\u001b[0m \u001b[38;5;28;01mreturn\u001b[39;00m \u001b[38;5;28mself\u001b[39m\u001b[38;5;241m.\u001b[39m_affected_rows\n",
      "File \u001b[0;32m~/.local/lib/python3.9/site-packages/pymysql/connections.py:775\u001b[0m, in \u001b[0;36mConnection._read_query_result\u001b[0;34m(self, unbuffered)\u001b[0m\n\u001b[1;32m    774\u001b[0m     result \u001b[38;5;241m=\u001b[39m MySQLResult(\u001b[38;5;28mself\u001b[39m)\n\u001b[0;32m--> 775\u001b[0m     \u001b[43mresult\u001b[49m\u001b[38;5;241;43m.\u001b[39;49m\u001b[43mread\u001b[49m\u001b[43m(\u001b[49m\u001b[43m)\u001b[49m\n\u001b[1;32m    776\u001b[0m \u001b[38;5;28mself\u001b[39m\u001b[38;5;241m.\u001b[39m_result \u001b[38;5;241m=\u001b[39m result\n",
      "File \u001b[0;32m~/.local/lib/python3.9/site-packages/pymysql/connections.py:1156\u001b[0m, in \u001b[0;36mMySQLResult.read\u001b[0;34m(self)\u001b[0m\n\u001b[1;32m   1155\u001b[0m \u001b[38;5;28;01mtry\u001b[39;00m:\n\u001b[0;32m-> 1156\u001b[0m     first_packet \u001b[38;5;241m=\u001b[39m \u001b[38;5;28;43mself\u001b[39;49m\u001b[38;5;241;43m.\u001b[39;49m\u001b[43mconnection\u001b[49m\u001b[38;5;241;43m.\u001b[39;49m\u001b[43m_read_packet\u001b[49m\u001b[43m(\u001b[49m\u001b[43m)\u001b[49m\n\u001b[1;32m   1158\u001b[0m     \u001b[38;5;28;01mif\u001b[39;00m first_packet\u001b[38;5;241m.\u001b[39mis_ok_packet():\n",
      "File \u001b[0;32m~/.local/lib/python3.9/site-packages/pymysql/connections.py:725\u001b[0m, in \u001b[0;36mConnection._read_packet\u001b[0;34m(self, packet_type)\u001b[0m\n\u001b[1;32m    724\u001b[0m         \u001b[38;5;28mself\u001b[39m\u001b[38;5;241m.\u001b[39m_result\u001b[38;5;241m.\u001b[39munbuffered_active \u001b[38;5;241m=\u001b[39m \u001b[38;5;28;01mFalse\u001b[39;00m\n\u001b[0;32m--> 725\u001b[0m     \u001b[43mpacket\u001b[49m\u001b[38;5;241;43m.\u001b[39;49m\u001b[43mraise_for_error\u001b[49m\u001b[43m(\u001b[49m\u001b[43m)\u001b[49m\n\u001b[1;32m    726\u001b[0m \u001b[38;5;28;01mreturn\u001b[39;00m packet\n",
      "File \u001b[0;32m~/.local/lib/python3.9/site-packages/pymysql/protocol.py:221\u001b[0m, in \u001b[0;36mMysqlPacket.raise_for_error\u001b[0;34m(self)\u001b[0m\n\u001b[1;32m    220\u001b[0m     \u001b[38;5;28mprint\u001b[39m(\u001b[38;5;124m\"\u001b[39m\u001b[38;5;124merrno =\u001b[39m\u001b[38;5;124m\"\u001b[39m, errno)\n\u001b[0;32m--> 221\u001b[0m \u001b[43merr\u001b[49m\u001b[38;5;241;43m.\u001b[39;49m\u001b[43mraise_mysql_exception\u001b[49m\u001b[43m(\u001b[49m\u001b[38;5;28;43mself\u001b[39;49m\u001b[38;5;241;43m.\u001b[39;49m\u001b[43m_data\u001b[49m\u001b[43m)\u001b[49m\n",
      "File \u001b[0;32m~/.local/lib/python3.9/site-packages/pymysql/err.py:143\u001b[0m, in \u001b[0;36mraise_mysql_exception\u001b[0;34m(data)\u001b[0m\n\u001b[1;32m    142\u001b[0m     errorclass \u001b[38;5;241m=\u001b[39m InternalError \u001b[38;5;28;01mif\u001b[39;00m errno \u001b[38;5;241m<\u001b[39m \u001b[38;5;241m1000\u001b[39m \u001b[38;5;28;01melse\u001b[39;00m OperationalError\n\u001b[0;32m--> 143\u001b[0m \u001b[38;5;28;01mraise\u001b[39;00m errorclass(errno, errval)\n",
      "\u001b[0;31mOperationalError\u001b[0m: (1525, \"Incorrect DATE value: 'NULL'\")",
      "\nThe above exception was the direct cause of the following exception:\n",
      "\u001b[0;31mOperationalError\u001b[0m                          Traceback (most recent call last)",
      "Cell \u001b[0;32mIn [34], line 18\u001b[0m\n\u001b[1;32m      1\u001b[0m query \u001b[38;5;241m=\u001b[39m \u001b[38;5;124m\"\"\"\u001b[39m\n\u001b[1;32m      2\u001b[0m \u001b[38;5;124m    SELECT\u001b[39m\n\u001b[1;32m      3\u001b[0m \u001b[38;5;124m        u.id, \u001b[39m\n\u001b[0;32m   (...)\u001b[0m\n\u001b[1;32m     16\u001b[0m \u001b[38;5;124m            OR r.date != \u001b[39m\u001b[38;5;124m'\u001b[39m\u001b[38;5;124mNULL\u001b[39m\u001b[38;5;124m'\u001b[39m\u001b[38;5;124m);\u001b[39m\n\u001b[1;32m     17\u001b[0m \u001b[38;5;124m\"\"\"\u001b[39m\n\u001b[0;32m---> 18\u001b[0m \u001b[43mquery_db\u001b[49m\u001b[43m(\u001b[49m\u001b[43mquery\u001b[49m\u001b[43m)\u001b[49m\n",
      "Cell \u001b[0;32mIn [30], line 2\u001b[0m, in \u001b[0;36mquery_db\u001b[0;34m(query)\u001b[0m\n\u001b[1;32m      1\u001b[0m \u001b[38;5;28;01mdef\u001b[39;00m \u001b[38;5;21mquery_db\u001b[39m(query):\n\u001b[0;32m----> 2\u001b[0m     results \u001b[38;5;241m=\u001b[39m \u001b[43mconn\u001b[49m\u001b[38;5;241;43m.\u001b[39;49m\u001b[43mexecute\u001b[49m\u001b[43m(\u001b[49m\u001b[43mquery\u001b[49m\u001b[43m)\u001b[49m\u001b[38;5;241m.\u001b[39mfetchall()\n\u001b[1;32m      3\u001b[0m     \u001b[38;5;28;01mfor\u001b[39;00m r \u001b[38;5;129;01min\u001b[39;00m results:\n\u001b[1;32m      4\u001b[0m         \u001b[38;5;28mprint\u001b[39m(r)\n",
      "File \u001b[0;32m~/.local/lib/python3.9/site-packages/sqlalchemy/engine/base.py:1291\u001b[0m, in \u001b[0;36mConnection.execute\u001b[0;34m(self, statement, *multiparams, **params)\u001b[0m\n\u001b[1;32m   1282\u001b[0m \u001b[38;5;28;01mif\u001b[39;00m \u001b[38;5;28misinstance\u001b[39m(statement, util\u001b[38;5;241m.\u001b[39mstring_types):\n\u001b[1;32m   1283\u001b[0m     util\u001b[38;5;241m.\u001b[39mwarn_deprecated_20(\n\u001b[1;32m   1284\u001b[0m         \u001b[38;5;124m\"\u001b[39m\u001b[38;5;124mPassing a string to Connection.execute() is \u001b[39m\u001b[38;5;124m\"\u001b[39m\n\u001b[1;32m   1285\u001b[0m         \u001b[38;5;124m\"\u001b[39m\u001b[38;5;124mdeprecated and will be removed in version 2.0.  Use the \u001b[39m\u001b[38;5;124m\"\u001b[39m\n\u001b[0;32m   (...)\u001b[0m\n\u001b[1;32m   1288\u001b[0m         \u001b[38;5;124m\"\u001b[39m\u001b[38;5;124mdriver-level SQL string.\u001b[39m\u001b[38;5;124m\"\u001b[39m\n\u001b[1;32m   1289\u001b[0m     )\n\u001b[0;32m-> 1291\u001b[0m     \u001b[38;5;28;01mreturn\u001b[39;00m \u001b[38;5;28;43mself\u001b[39;49m\u001b[38;5;241;43m.\u001b[39;49m\u001b[43m_exec_driver_sql\u001b[49m\u001b[43m(\u001b[49m\n\u001b[1;32m   1292\u001b[0m \u001b[43m        \u001b[49m\u001b[43mstatement\u001b[49m\u001b[43m,\u001b[49m\n\u001b[1;32m   1293\u001b[0m \u001b[43m        \u001b[49m\u001b[43mmultiparams\u001b[49m\u001b[43m,\u001b[49m\n\u001b[1;32m   1294\u001b[0m \u001b[43m        \u001b[49m\u001b[43mparams\u001b[49m\u001b[43m,\u001b[49m\n\u001b[1;32m   1295\u001b[0m \u001b[43m        \u001b[49m\u001b[43m_EMPTY_EXECUTION_OPTS\u001b[49m\u001b[43m,\u001b[49m\n\u001b[1;32m   1296\u001b[0m \u001b[43m        \u001b[49m\u001b[43mfuture\u001b[49m\u001b[38;5;241;43m=\u001b[39;49m\u001b[38;5;28;43;01mFalse\u001b[39;49;00m\u001b[43m,\u001b[49m\n\u001b[1;32m   1297\u001b[0m \u001b[43m    \u001b[49m\u001b[43m)\u001b[49m\n\u001b[1;32m   1299\u001b[0m \u001b[38;5;28;01mtry\u001b[39;00m:\n\u001b[1;32m   1300\u001b[0m     meth \u001b[38;5;241m=\u001b[39m statement\u001b[38;5;241m.\u001b[39m_execute_on_connection\n",
      "File \u001b[0;32m~/.local/lib/python3.9/site-packages/sqlalchemy/engine/base.py:1595\u001b[0m, in \u001b[0;36mConnection._exec_driver_sql\u001b[0;34m(self, statement, multiparams, params, execution_options, future)\u001b[0m\n\u001b[1;32m   1585\u001b[0m         (\n\u001b[1;32m   1586\u001b[0m             statement,\n\u001b[1;32m   1587\u001b[0m             distilled_params,\n\u001b[0;32m   (...)\u001b[0m\n\u001b[1;32m   1591\u001b[0m             statement, distilled_parameters, execution_options\n\u001b[1;32m   1592\u001b[0m         )\n\u001b[1;32m   1594\u001b[0m dialect \u001b[38;5;241m=\u001b[39m \u001b[38;5;28mself\u001b[39m\u001b[38;5;241m.\u001b[39mdialect\n\u001b[0;32m-> 1595\u001b[0m ret \u001b[38;5;241m=\u001b[39m \u001b[38;5;28;43mself\u001b[39;49m\u001b[38;5;241;43m.\u001b[39;49m\u001b[43m_execute_context\u001b[49m\u001b[43m(\u001b[49m\n\u001b[1;32m   1596\u001b[0m \u001b[43m    \u001b[49m\u001b[43mdialect\u001b[49m\u001b[43m,\u001b[49m\n\u001b[1;32m   1597\u001b[0m \u001b[43m    \u001b[49m\u001b[43mdialect\u001b[49m\u001b[38;5;241;43m.\u001b[39;49m\u001b[43mexecution_ctx_cls\u001b[49m\u001b[38;5;241;43m.\u001b[39;49m\u001b[43m_init_statement\u001b[49m\u001b[43m,\u001b[49m\n\u001b[1;32m   1598\u001b[0m \u001b[43m    \u001b[49m\u001b[43mstatement\u001b[49m\u001b[43m,\u001b[49m\n\u001b[1;32m   1599\u001b[0m \u001b[43m    \u001b[49m\u001b[43mdistilled_parameters\u001b[49m\u001b[43m,\u001b[49m\n\u001b[1;32m   1600\u001b[0m \u001b[43m    \u001b[49m\u001b[43mexecution_options\u001b[49m\u001b[43m,\u001b[49m\n\u001b[1;32m   1601\u001b[0m \u001b[43m    \u001b[49m\u001b[43mstatement\u001b[49m\u001b[43m,\u001b[49m\n\u001b[1;32m   1602\u001b[0m \u001b[43m    \u001b[49m\u001b[43mdistilled_parameters\u001b[49m\u001b[43m,\u001b[49m\n\u001b[1;32m   1603\u001b[0m \u001b[43m\u001b[49m\u001b[43m)\u001b[49m\n\u001b[1;32m   1605\u001b[0m \u001b[38;5;28;01mif\u001b[39;00m \u001b[38;5;129;01mnot\u001b[39;00m future:\n\u001b[1;32m   1606\u001b[0m     \u001b[38;5;28;01mif\u001b[39;00m \u001b[38;5;28mself\u001b[39m\u001b[38;5;241m.\u001b[39m_has_events \u001b[38;5;129;01mor\u001b[39;00m \u001b[38;5;28mself\u001b[39m\u001b[38;5;241m.\u001b[39mengine\u001b[38;5;241m.\u001b[39m_has_events:\n",
      "File \u001b[0;32m~/.local/lib/python3.9/site-packages/sqlalchemy/engine/base.py:1862\u001b[0m, in \u001b[0;36mConnection._execute_context\u001b[0;34m(self, dialect, constructor, statement, parameters, execution_options, *args, **kw)\u001b[0m\n\u001b[1;32m   1859\u001b[0m             branched\u001b[38;5;241m.\u001b[39mclose()\n\u001b[1;32m   1861\u001b[0m \u001b[38;5;28;01mexcept\u001b[39;00m \u001b[38;5;167;01mBaseException\u001b[39;00m \u001b[38;5;28;01mas\u001b[39;00m e:\n\u001b[0;32m-> 1862\u001b[0m     \u001b[38;5;28;43mself\u001b[39;49m\u001b[38;5;241;43m.\u001b[39;49m\u001b[43m_handle_dbapi_exception\u001b[49m\u001b[43m(\u001b[49m\n\u001b[1;32m   1863\u001b[0m \u001b[43m        \u001b[49m\u001b[43me\u001b[49m\u001b[43m,\u001b[49m\u001b[43m \u001b[49m\u001b[43mstatement\u001b[49m\u001b[43m,\u001b[49m\u001b[43m \u001b[49m\u001b[43mparameters\u001b[49m\u001b[43m,\u001b[49m\u001b[43m \u001b[49m\u001b[43mcursor\u001b[49m\u001b[43m,\u001b[49m\u001b[43m \u001b[49m\u001b[43mcontext\u001b[49m\n\u001b[1;32m   1864\u001b[0m \u001b[43m    \u001b[49m\u001b[43m)\u001b[49m\n\u001b[1;32m   1866\u001b[0m \u001b[38;5;28;01mreturn\u001b[39;00m result\n",
      "File \u001b[0;32m~/.local/lib/python3.9/site-packages/sqlalchemy/engine/base.py:2043\u001b[0m, in \u001b[0;36mConnection._handle_dbapi_exception\u001b[0;34m(self, e, statement, parameters, cursor, context)\u001b[0m\n\u001b[1;32m   2041\u001b[0m     util\u001b[38;5;241m.\u001b[39mraise_(newraise, with_traceback\u001b[38;5;241m=\u001b[39mexc_info[\u001b[38;5;241m2\u001b[39m], from_\u001b[38;5;241m=\u001b[39me)\n\u001b[1;32m   2042\u001b[0m \u001b[38;5;28;01melif\u001b[39;00m should_wrap:\n\u001b[0;32m-> 2043\u001b[0m     \u001b[43mutil\u001b[49m\u001b[38;5;241;43m.\u001b[39;49m\u001b[43mraise_\u001b[49m\u001b[43m(\u001b[49m\n\u001b[1;32m   2044\u001b[0m \u001b[43m        \u001b[49m\u001b[43msqlalchemy_exception\u001b[49m\u001b[43m,\u001b[49m\u001b[43m \u001b[49m\u001b[43mwith_traceback\u001b[49m\u001b[38;5;241;43m=\u001b[39;49m\u001b[43mexc_info\u001b[49m\u001b[43m[\u001b[49m\u001b[38;5;241;43m2\u001b[39;49m\u001b[43m]\u001b[49m\u001b[43m,\u001b[49m\u001b[43m \u001b[49m\u001b[43mfrom_\u001b[49m\u001b[38;5;241;43m=\u001b[39;49m\u001b[43me\u001b[49m\n\u001b[1;32m   2045\u001b[0m \u001b[43m    \u001b[49m\u001b[43m)\u001b[49m\n\u001b[1;32m   2046\u001b[0m \u001b[38;5;28;01melse\u001b[39;00m:\n\u001b[1;32m   2047\u001b[0m     util\u001b[38;5;241m.\u001b[39mraise_(exc_info[\u001b[38;5;241m1\u001b[39m], with_traceback\u001b[38;5;241m=\u001b[39mexc_info[\u001b[38;5;241m2\u001b[39m])\n",
      "File \u001b[0;32m~/.local/lib/python3.9/site-packages/sqlalchemy/util/compat.py:207\u001b[0m, in \u001b[0;36mraise_\u001b[0;34m(***failed resolving arguments***)\u001b[0m\n\u001b[1;32m    204\u001b[0m     exception\u001b[38;5;241m.\u001b[39m__cause__ \u001b[38;5;241m=\u001b[39m replace_context\n\u001b[1;32m    206\u001b[0m \u001b[38;5;28;01mtry\u001b[39;00m:\n\u001b[0;32m--> 207\u001b[0m     \u001b[38;5;28;01mraise\u001b[39;00m exception\n\u001b[1;32m    208\u001b[0m \u001b[38;5;28;01mfinally\u001b[39;00m:\n\u001b[1;32m    209\u001b[0m     \u001b[38;5;66;03m# credit to\u001b[39;00m\n\u001b[1;32m    210\u001b[0m     \u001b[38;5;66;03m# https://cosmicpercolator.com/2016/01/13/exception-leaks-in-python-2-and-3/\u001b[39;00m\n\u001b[1;32m    211\u001b[0m     \u001b[38;5;66;03m# as the __traceback__ object creates a cycle\u001b[39;00m\n\u001b[1;32m    212\u001b[0m     \u001b[38;5;28;01mdel\u001b[39;00m exception, replace_context, from_, with_traceback\n",
      "File \u001b[0;32m~/.local/lib/python3.9/site-packages/sqlalchemy/engine/base.py:1819\u001b[0m, in \u001b[0;36mConnection._execute_context\u001b[0;34m(self, dialect, constructor, statement, parameters, execution_options, *args, **kw)\u001b[0m\n\u001b[1;32m   1817\u001b[0m                 \u001b[38;5;28;01mbreak\u001b[39;00m\n\u001b[1;32m   1818\u001b[0m     \u001b[38;5;28;01mif\u001b[39;00m \u001b[38;5;129;01mnot\u001b[39;00m evt_handled:\n\u001b[0;32m-> 1819\u001b[0m         \u001b[38;5;28;43mself\u001b[39;49m\u001b[38;5;241;43m.\u001b[39;49m\u001b[43mdialect\u001b[49m\u001b[38;5;241;43m.\u001b[39;49m\u001b[43mdo_execute\u001b[49m\u001b[43m(\u001b[49m\n\u001b[1;32m   1820\u001b[0m \u001b[43m            \u001b[49m\u001b[43mcursor\u001b[49m\u001b[43m,\u001b[49m\u001b[43m \u001b[49m\u001b[43mstatement\u001b[49m\u001b[43m,\u001b[49m\u001b[43m \u001b[49m\u001b[43mparameters\u001b[49m\u001b[43m,\u001b[49m\u001b[43m \u001b[49m\u001b[43mcontext\u001b[49m\n\u001b[1;32m   1821\u001b[0m \u001b[43m        \u001b[49m\u001b[43m)\u001b[49m\n\u001b[1;32m   1823\u001b[0m \u001b[38;5;28;01mif\u001b[39;00m \u001b[38;5;28mself\u001b[39m\u001b[38;5;241m.\u001b[39m_has_events \u001b[38;5;129;01mor\u001b[39;00m \u001b[38;5;28mself\u001b[39m\u001b[38;5;241m.\u001b[39mengine\u001b[38;5;241m.\u001b[39m_has_events:\n\u001b[1;32m   1824\u001b[0m     \u001b[38;5;28mself\u001b[39m\u001b[38;5;241m.\u001b[39mdispatch\u001b[38;5;241m.\u001b[39mafter_cursor_execute(\n\u001b[1;32m   1825\u001b[0m         \u001b[38;5;28mself\u001b[39m,\n\u001b[1;32m   1826\u001b[0m         cursor,\n\u001b[0;32m   (...)\u001b[0m\n\u001b[1;32m   1830\u001b[0m         context\u001b[38;5;241m.\u001b[39mexecutemany,\n\u001b[1;32m   1831\u001b[0m     )\n",
      "File \u001b[0;32m~/.local/lib/python3.9/site-packages/sqlalchemy/engine/default.py:732\u001b[0m, in \u001b[0;36mDefaultDialect.do_execute\u001b[0;34m(self, cursor, statement, parameters, context)\u001b[0m\n\u001b[1;32m    731\u001b[0m \u001b[38;5;28;01mdef\u001b[39;00m \u001b[38;5;21mdo_execute\u001b[39m(\u001b[38;5;28mself\u001b[39m, cursor, statement, parameters, context\u001b[38;5;241m=\u001b[39m\u001b[38;5;28;01mNone\u001b[39;00m):\n\u001b[0;32m--> 732\u001b[0m     \u001b[43mcursor\u001b[49m\u001b[38;5;241;43m.\u001b[39;49m\u001b[43mexecute\u001b[49m\u001b[43m(\u001b[49m\u001b[43mstatement\u001b[49m\u001b[43m,\u001b[49m\u001b[43m \u001b[49m\u001b[43mparameters\u001b[49m\u001b[43m)\u001b[49m\n",
      "File \u001b[0;32m~/.local/lib/python3.9/site-packages/pymysql/cursors.py:148\u001b[0m, in \u001b[0;36mCursor.execute\u001b[0;34m(self, query, args)\u001b[0m\n\u001b[1;32m    144\u001b[0m     \u001b[38;5;28;01mpass\u001b[39;00m\n\u001b[1;32m    146\u001b[0m query \u001b[38;5;241m=\u001b[39m \u001b[38;5;28mself\u001b[39m\u001b[38;5;241m.\u001b[39mmogrify(query, args)\n\u001b[0;32m--> 148\u001b[0m result \u001b[38;5;241m=\u001b[39m \u001b[38;5;28;43mself\u001b[39;49m\u001b[38;5;241;43m.\u001b[39;49m\u001b[43m_query\u001b[49m\u001b[43m(\u001b[49m\u001b[43mquery\u001b[49m\u001b[43m)\u001b[49m\n\u001b[1;32m    149\u001b[0m \u001b[38;5;28mself\u001b[39m\u001b[38;5;241m.\u001b[39m_executed \u001b[38;5;241m=\u001b[39m query\n\u001b[1;32m    150\u001b[0m \u001b[38;5;28;01mreturn\u001b[39;00m result\n",
      "File \u001b[0;32m~/.local/lib/python3.9/site-packages/pymysql/cursors.py:310\u001b[0m, in \u001b[0;36mCursor._query\u001b[0;34m(self, q)\u001b[0m\n\u001b[1;32m    308\u001b[0m \u001b[38;5;28mself\u001b[39m\u001b[38;5;241m.\u001b[39m_last_executed \u001b[38;5;241m=\u001b[39m q\n\u001b[1;32m    309\u001b[0m \u001b[38;5;28mself\u001b[39m\u001b[38;5;241m.\u001b[39m_clear_result()\n\u001b[0;32m--> 310\u001b[0m \u001b[43mconn\u001b[49m\u001b[38;5;241;43m.\u001b[39;49m\u001b[43mquery\u001b[49m\u001b[43m(\u001b[49m\u001b[43mq\u001b[49m\u001b[43m)\u001b[49m\n\u001b[1;32m    311\u001b[0m \u001b[38;5;28mself\u001b[39m\u001b[38;5;241m.\u001b[39m_do_get_result()\n\u001b[1;32m    312\u001b[0m \u001b[38;5;28;01mreturn\u001b[39;00m \u001b[38;5;28mself\u001b[39m\u001b[38;5;241m.\u001b[39mrowcount\n",
      "File \u001b[0;32m~/.local/lib/python3.9/site-packages/pymysql/connections.py:548\u001b[0m, in \u001b[0;36mConnection.query\u001b[0;34m(self, sql, unbuffered)\u001b[0m\n\u001b[1;32m    546\u001b[0m     sql \u001b[38;5;241m=\u001b[39m sql\u001b[38;5;241m.\u001b[39mencode(\u001b[38;5;28mself\u001b[39m\u001b[38;5;241m.\u001b[39mencoding, \u001b[38;5;124m\"\u001b[39m\u001b[38;5;124msurrogateescape\u001b[39m\u001b[38;5;124m\"\u001b[39m)\n\u001b[1;32m    547\u001b[0m \u001b[38;5;28mself\u001b[39m\u001b[38;5;241m.\u001b[39m_execute_command(COMMAND\u001b[38;5;241m.\u001b[39mCOM_QUERY, sql)\n\u001b[0;32m--> 548\u001b[0m \u001b[38;5;28mself\u001b[39m\u001b[38;5;241m.\u001b[39m_affected_rows \u001b[38;5;241m=\u001b[39m \u001b[38;5;28;43mself\u001b[39;49m\u001b[38;5;241;43m.\u001b[39;49m\u001b[43m_read_query_result\u001b[49m\u001b[43m(\u001b[49m\u001b[43munbuffered\u001b[49m\u001b[38;5;241;43m=\u001b[39;49m\u001b[43munbuffered\u001b[49m\u001b[43m)\u001b[49m\n\u001b[1;32m    549\u001b[0m \u001b[38;5;28;01mreturn\u001b[39;00m \u001b[38;5;28mself\u001b[39m\u001b[38;5;241m.\u001b[39m_affected_rows\n",
      "File \u001b[0;32m~/.local/lib/python3.9/site-packages/pymysql/connections.py:775\u001b[0m, in \u001b[0;36mConnection._read_query_result\u001b[0;34m(self, unbuffered)\u001b[0m\n\u001b[1;32m    773\u001b[0m \u001b[38;5;28;01melse\u001b[39;00m:\n\u001b[1;32m    774\u001b[0m     result \u001b[38;5;241m=\u001b[39m MySQLResult(\u001b[38;5;28mself\u001b[39m)\n\u001b[0;32m--> 775\u001b[0m     \u001b[43mresult\u001b[49m\u001b[38;5;241;43m.\u001b[39;49m\u001b[43mread\u001b[49m\u001b[43m(\u001b[49m\u001b[43m)\u001b[49m\n\u001b[1;32m    776\u001b[0m \u001b[38;5;28mself\u001b[39m\u001b[38;5;241m.\u001b[39m_result \u001b[38;5;241m=\u001b[39m result\n\u001b[1;32m    777\u001b[0m \u001b[38;5;28;01mif\u001b[39;00m result\u001b[38;5;241m.\u001b[39mserver_status \u001b[38;5;129;01mis\u001b[39;00m \u001b[38;5;129;01mnot\u001b[39;00m \u001b[38;5;28;01mNone\u001b[39;00m:\n",
      "File \u001b[0;32m~/.local/lib/python3.9/site-packages/pymysql/connections.py:1156\u001b[0m, in \u001b[0;36mMySQLResult.read\u001b[0;34m(self)\u001b[0m\n\u001b[1;32m   1154\u001b[0m \u001b[38;5;28;01mdef\u001b[39;00m \u001b[38;5;21mread\u001b[39m(\u001b[38;5;28mself\u001b[39m):\n\u001b[1;32m   1155\u001b[0m     \u001b[38;5;28;01mtry\u001b[39;00m:\n\u001b[0;32m-> 1156\u001b[0m         first_packet \u001b[38;5;241m=\u001b[39m \u001b[38;5;28;43mself\u001b[39;49m\u001b[38;5;241;43m.\u001b[39;49m\u001b[43mconnection\u001b[49m\u001b[38;5;241;43m.\u001b[39;49m\u001b[43m_read_packet\u001b[49m\u001b[43m(\u001b[49m\u001b[43m)\u001b[49m\n\u001b[1;32m   1158\u001b[0m         \u001b[38;5;28;01mif\u001b[39;00m first_packet\u001b[38;5;241m.\u001b[39mis_ok_packet():\n\u001b[1;32m   1159\u001b[0m             \u001b[38;5;28mself\u001b[39m\u001b[38;5;241m.\u001b[39m_read_ok_packet(first_packet)\n",
      "File \u001b[0;32m~/.local/lib/python3.9/site-packages/pymysql/connections.py:725\u001b[0m, in \u001b[0;36mConnection._read_packet\u001b[0;34m(self, packet_type)\u001b[0m\n\u001b[1;32m    723\u001b[0m     \u001b[38;5;28;01mif\u001b[39;00m \u001b[38;5;28mself\u001b[39m\u001b[38;5;241m.\u001b[39m_result \u001b[38;5;129;01mis\u001b[39;00m \u001b[38;5;129;01mnot\u001b[39;00m \u001b[38;5;28;01mNone\u001b[39;00m \u001b[38;5;129;01mand\u001b[39;00m \u001b[38;5;28mself\u001b[39m\u001b[38;5;241m.\u001b[39m_result\u001b[38;5;241m.\u001b[39munbuffered_active \u001b[38;5;129;01mis\u001b[39;00m \u001b[38;5;28;01mTrue\u001b[39;00m:\n\u001b[1;32m    724\u001b[0m         \u001b[38;5;28mself\u001b[39m\u001b[38;5;241m.\u001b[39m_result\u001b[38;5;241m.\u001b[39munbuffered_active \u001b[38;5;241m=\u001b[39m \u001b[38;5;28;01mFalse\u001b[39;00m\n\u001b[0;32m--> 725\u001b[0m     \u001b[43mpacket\u001b[49m\u001b[38;5;241;43m.\u001b[39;49m\u001b[43mraise_for_error\u001b[49m\u001b[43m(\u001b[49m\u001b[43m)\u001b[49m\n\u001b[1;32m    726\u001b[0m \u001b[38;5;28;01mreturn\u001b[39;00m packet\n",
      "File \u001b[0;32m~/.local/lib/python3.9/site-packages/pymysql/protocol.py:221\u001b[0m, in \u001b[0;36mMysqlPacket.raise_for_error\u001b[0;34m(self)\u001b[0m\n\u001b[1;32m    219\u001b[0m \u001b[38;5;28;01mif\u001b[39;00m DEBUG:\n\u001b[1;32m    220\u001b[0m     \u001b[38;5;28mprint\u001b[39m(\u001b[38;5;124m\"\u001b[39m\u001b[38;5;124merrno =\u001b[39m\u001b[38;5;124m\"\u001b[39m, errno)\n\u001b[0;32m--> 221\u001b[0m \u001b[43merr\u001b[49m\u001b[38;5;241;43m.\u001b[39;49m\u001b[43mraise_mysql_exception\u001b[49m\u001b[43m(\u001b[49m\u001b[38;5;28;43mself\u001b[39;49m\u001b[38;5;241;43m.\u001b[39;49m\u001b[43m_data\u001b[49m\u001b[43m)\u001b[49m\n",
      "File \u001b[0;32m~/.local/lib/python3.9/site-packages/pymysql/err.py:143\u001b[0m, in \u001b[0;36mraise_mysql_exception\u001b[0;34m(data)\u001b[0m\n\u001b[1;32m    141\u001b[0m \u001b[38;5;28;01mif\u001b[39;00m errorclass \u001b[38;5;129;01mis\u001b[39;00m \u001b[38;5;28;01mNone\u001b[39;00m:\n\u001b[1;32m    142\u001b[0m     errorclass \u001b[38;5;241m=\u001b[39m InternalError \u001b[38;5;28;01mif\u001b[39;00m errno \u001b[38;5;241m<\u001b[39m \u001b[38;5;241m1000\u001b[39m \u001b[38;5;28;01melse\u001b[39;00m OperationalError\n\u001b[0;32m--> 143\u001b[0m \u001b[38;5;28;01mraise\u001b[39;00m errorclass(errno, errval)\n",
      "\u001b[0;31mOperationalError\u001b[0m: (pymysql.err.OperationalError) (1525, \"Incorrect DATE value: 'NULL'\")\n[SQL: \n    SELECT\n        u.id, \n        u.deletion_date, \n        r.date\n    FROM (\n        SELECT id, DATE(deletion_date) AS deletion_date\n        FROM user\n        WHERE deletion_date IS NOT NULL) AS u\n    INNER JOIN (\n        SELECT *\n        FROM reservation) AS r\n    ON u.id = r.user_id\n        AND u.deletion_date < r.date\n        AND (r.date IS NOT NULL\n            OR r.date != 'NULL');\n]\n(Background on this error at: https://sqlalche.me/e/14/e3q8)"
     ]
    }
   ],
   "source": [
    "query = \"\"\"\n",
    "    SELECT\n",
    "        u.id, \n",
    "        u.deletion_date, \n",
    "        r.date\n",
    "    FROM (\n",
    "        SELECT id, DATE(deletion_date) AS deletion_date\n",
    "        FROM user\n",
    "        WHERE deletion_date IS NOT NULL) AS u\n",
    "    INNER JOIN (\n",
    "        SELECT *\n",
    "        FROM reservation) AS r\n",
    "    ON u.id = r.user_id\n",
    "        AND u.deletion_date < r.date\n",
    "        AND (r.date IS NOT NULL\n",
    "            OR r.date != 'NULL');\n",
    "\"\"\"\n",
    "query_db(query)"
   ]
  },
  {
   "cell_type": "code",
   "execution_count": 35,
   "metadata": {},
   "outputs": [
    {
     "output_type": "stream",
     "name": "stdout",
     "text": [
      "(366, 99)\n"
     ]
    }
   ],
   "source": [
    "query = \"\"\"\n",
    "    SELECT \n",
    "        user_id,\n",
    "        total\n",
    "    FROM(\n",
    "    SELECT \n",
    "        user_id,\n",
    "        COUNT(user_id) AS total\n",
    "    FROM reservation\n",
    "    GROUP BY user_id) as t\n",
    "    WHERE total = (\n",
    "        SELECT\n",
    "            MAX(total) AS MAX\n",
    "        FROM (\n",
    "            SELECT \n",
    "                user_id,\n",
    "                COUNT(user_id) AS total\n",
    "            FROM reservation\n",
    "            GROUP BY user_id\n",
    "            ORDER BY total DESC\n",
    "            LIMIT 1) AS m);\n",
    "\"\"\"\n",
    "query_db(query)"
   ]
  },
  {
   "cell_type": "code",
   "execution_count": null,
   "metadata": {},
   "outputs": [],
   "source": []
  },
  {
   "cell_type": "code",
   "execution_count": 39,
   "metadata": {},
   "outputs": [
    {
     "output_type": "stream",
     "name": "stdout",
     "text": [
      "('CONFIRMED', Decimal('94.8818'))\n('CANCELLED', Decimal('3.0942'))\n('EXECUTED', Decimal('2.0239'))\n"
     ]
    }
   ],
   "source": [
    "query = \"\"\"\n",
    "    SELECT\n",
    "        status, \n",
    "        (COUNT(*) / (\n",
    "            SELECT COUNT(*)\n",
    "            FROM reservation)) * 100\n",
    "    FROM reservation \n",
    "    GROUP BY status;\n",
    "\"\"\"\n",
    "query_db(query)"
   ]
  },
  {
   "cell_type": "code",
   "execution_count": 50,
   "metadata": {},
   "outputs": [
    {
     "output_type": "stream",
     "name": "stdout",
     "text": [
      "('PADEL', 18585)\n"
     ]
    }
   ],
   "source": [
    "query = \"\"\"\n",
    "    SELECT\n",
    "        type,\n",
    "        TOTAL\n",
    "    FROM (\n",
    "        SELECT \n",
    "            RE.type,\n",
    "            COUNT(*) AS TOTAL\n",
    "        FROM (\n",
    "            SELECT \n",
    "                resource_id\n",
    "            FROM reservation) AS R\n",
    "        LEFT JOIN (\n",
    "            SELECT\n",
    "                id, type\n",
    "            FROM resource) AS RE\n",
    "        ON R.resource_id = RE.id\n",
    "        GROUP BY RE.type) AS T\n",
    "    WHERE TOTAL = (\n",
    "        SELECT \n",
    "            MAX(TOTAL)\n",
    "        FROM (\n",
    "            SELECT \n",
    "                RE.type,\n",
    "                COUNT(*) AS TOTAL\n",
    "            FROM (\n",
    "                SELECT \n",
    "                    resource_id\n",
    "                FROM reservation) AS R\n",
    "            LEFT JOIN (\n",
    "                SELECT\n",
    "                    id, type\n",
    "                FROM resource) AS RE\n",
    "            ON R.resource_id = RE.id\n",
    "            GROUP BY RE.type) AS M);\n",
    "\"\"\"\n",
    "query_db(query)"
   ]
  },
  {
   "cell_type": "code",
   "execution_count": 54,
   "metadata": {},
   "outputs": [
    {
     "output_type": "stream",
     "name": "stdout",
     "text": [
      "('PADEL', 18585)\n"
     ]
    }
   ],
   "source": [
    "query = \"\"\"\n",
    "    SELECT\n",
    "        type,\n",
    "        TOTAL\n",
    "    FROM (\n",
    "        SELECT \n",
    "            RE.type,\n",
    "            COUNT(*) AS TOTAL\n",
    "        FROM (\n",
    "            SELECT \n",
    "                resource_id\n",
    "            FROM reservation) AS R\n",
    "        LEFT JOIN (\n",
    "            SELECT\n",
    "                id, type\n",
    "            FROM resource) AS RE\n",
    "        ON R.resource_id = RE.id\n",
    "        GROUP BY RE.type) AS T\n",
    "    WHERE TOTAL = (\n",
    "            SELECT \n",
    "                COUNT(*) AS TOTAL\n",
    "            FROM (\n",
    "                SELECT \n",
    "                    resource_id\n",
    "                FROM reservation) AS R\n",
    "            LEFT JOIN (\n",
    "                SELECT\n",
    "                    id, type\n",
    "                FROM resource) AS RE\n",
    "            ON R.resource_id = RE.id\n",
    "            GROUP BY RE.type\n",
    "            LIMIT 1);\n",
    "\"\"\"\n",
    "query_db(query)"
   ]
  },
  {
   "cell_type": "code",
   "execution_count": 97,
   "metadata": {},
   "outputs": [
    {
     "output_type": "stream",
     "name": "stdout",
     "text": [
      "('10:00', '16:00', 4331)\n('16:00', '22:00', 4119)\n('10:00', '22:00', 2116)\n('10:30', '12:00', 2100)\n('15:00', '16:30', 2098)\n('13:30', '15:00', 2083)\n('09:00', '10:30', 2064)\n('18:00', '19:30', 2062)\n('16:30', '18:00', 2060)\n('12:00', '13:30', 2057)\n('21:00', '22:30', 2046)\n('19:30', '21:00', 2015)\n"
     ]
    }
   ],
   "source": [
    "query = \"\"\"\n",
    "    SELECT\n",
    "        start_time, end_time,\n",
    "        COUNT(start_time) AS TOTAL\n",
    "    FROM (\n",
    "        SELECT id, resource_id\n",
    "        FROM reservation) AS RE\n",
    "    LEFT JOIN (\n",
    "        SELECT id, timetable_id, type\n",
    "        FROM resource) AS R\n",
    "    ON RE.resource_id = R.id\n",
    "    LEFT JOIN (\n",
    "        SELECT id, start_time, end_time\n",
    "        FROM timetable) AS T\n",
    "    ON T.id = R.timetable_id\n",
    "    GROUP BY start_time, end_time\n",
    "    ORDER BY TOTAL DESC;\n",
    "\"\"\"\n",
    "query_db(query)"
   ]
  },
  {
   "cell_type": "code",
   "execution_count": 68,
   "metadata": {},
   "outputs": [
    {
     "output_type": "stream",
     "name": "stdout",
     "text": [
      "(Decimal('7.9910'),)\n"
     ]
    }
   ],
   "source": [
    "query = \"\"\"\n",
    "    SELECT \n",
    "       AVG(TOTAL) AS AVG\n",
    "    FROM (\n",
    "        SELECT\n",
    "            date,\n",
    "            COUNT(*) AS TOTAL\n",
    "        FROM reservation\n",
    "        GROUP BY date) AS R;\n",
    "\"\"\"\n",
    "query_db(query)"
   ]
  },
  {
   "cell_type": "code",
   "execution_count": 84,
   "metadata": {},
   "outputs": [
    {
     "output_type": "stream",
     "name": "stdout",
     "text": [
      "('MORNING', 16849)\n('EVENING', 12302)\n"
     ]
    }
   ],
   "source": [
    "query = \"\"\"\n",
    "    SELECT\n",
    "        G,\n",
    "        COUNT(*) AS TOTAL\n",
    "    FROM (\n",
    "        SELECT \n",
    "            CASE\n",
    "                WHEN STR_TO_DATE(start_time,'%%H:%%i')\n",
    "                    >= STR_TO_DATE('16:00','%%H:%%i') THEN 'EVENING'\n",
    "                ELSE 'MORNING'\n",
    "            END AS 'G'\n",
    "        FROM (\n",
    "            SELECT id, resource_id\n",
    "            FROM reservation) AS RE\n",
    "        LEFT JOIN (\n",
    "            SELECT id, timetable_id, type\n",
    "            FROM resource) AS R\n",
    "        ON RE.resource_id = R.id\n",
    "        LEFT JOIN (\n",
    "            SELECT id, start_time\n",
    "            FROM timetable) AS T\n",
    "        ON T.id = R.timetable_id) AS EM\n",
    "    GROUP BY G\n",
    "    ORDER BY TOTAL DESC;\n",
    "\"\"\"\n",
    "query_db(query)"
   ]
  },
  {
   "cell_type": "code",
   "execution_count": 93,
   "metadata": {},
   "outputs": [
    {
     "output_type": "stream",
     "name": "stdout",
     "text": [
      "(0, 19631)\n(1, 9520)\n"
     ]
    }
   ],
   "source": [
    "query = \"\"\"\n",
    "    SELECT\n",
    "        HAS_PROBLEMS,\n",
    "        COUNT(*) AS TOTAL\n",
    "    FROM (\n",
    "        SELECT \n",
    "            CASE\n",
    "                WHEN max_pax < num_pax THEN 1\n",
    "                ELSE 0\n",
    "            END AS 'HAS_PROBLEMS'\n",
    "        FROM (\n",
    "            SELECT id, resource_id, num_pax\n",
    "            FROM reservation) AS RE\n",
    "        LEFT JOIN (\n",
    "            SELECT id, timetable_id, max_pax\n",
    "            FROM resource) AS R\n",
    "        ON RE.resource_id = R.id) AS M\n",
    "        GROUP BY HAS_PROBLEMS\n",
    "        ORDER BY TOTAL DESC;\n",
    "\"\"\"\n",
    "query_db(query)"
   ]
  },
  {
   "cell_type": "code",
   "execution_count": 115,
   "metadata": {
    "tags": []
   },
   "outputs": [
    {
     "output_type": "stream",
     "name": "stdout",
     "text": [
      "(3, datetime.date(2021, 6, 8), '13:30', 'PADEL', 2)\n(18, datetime.date(2017, 11, 16), '16:00', 'GIMNASIO,PISCINA', 2)\n(22, datetime.date(2019, 9, 21), '10:00', 'GIMNASIO,PISCINA', 2)\n(33, datetime.date(2021, 10, 15), '10:00', 'GIMNASIO,SALA COMUN', 2)\n(44, datetime.date(2016, 9, 21), '10:00', 'SALA COMUN', 2)\n(44, datetime.date(2021, 5, 10), '16:30', 'PADEL', 2)\n(45, datetime.date(2014, 6, 26), '19:30', 'PADEL', 2)\n(53, datetime.date(2021, 8, 20), '10:00', 'PISCINA,SALA COMUN', 2)\n(93, datetime.date(2020, 12, 1), '10:00', 'GIMNASIO,SALA COMUN', 2)\n(103, datetime.date(2017, 5, 22), '09:00', 'PADEL', 2)\n(119, datetime.date(2015, 4, 10), '19:30', 'PADEL', 2)\n(123, datetime.date(2014, 5, 21), '10:00', 'SALA COMUN', 2)\n(130, datetime.date(2013, 2, 27), '13:30', 'PADEL', 2)\n(132, datetime.date(2013, 7, 11), '16:00', 'GIMNASIO', 2)\n(159, datetime.date(2018, 10, 22), '10:30', 'PADEL', 2)\n(171, datetime.date(2022, 8, 28), '10:00', 'GIMNASIO,PISCINA', 2)\n(217, datetime.date(2015, 6, 26), '10:00', 'GIMNASIO', 2)\n(217, datetime.date(2021, 7, 2), '16:00', 'PISCINA', 2)\n(220, datetime.date(2020, 9, 26), '16:00', 'GIMNASIO', 2)\n(224, datetime.date(2014, 1, 15), '21:00', 'PADEL', 2)\n(226, datetime.date(2016, 11, 8), '18:00', 'PADEL', 2)\n(230, datetime.date(2021, 4, 29), '16:00', 'GIMNASIO,PISCINA', 2)\n(239, datetime.date(2020, 9, 25), '12:00', 'PADEL', 2)\n(243, datetime.date(2020, 12, 26), '16:00', 'GIMNASIO,PISCINA', 2)\n(247, datetime.date(2021, 7, 19), '10:00', 'GIMNASIO', 2)\n(259, datetime.date(2022, 2, 13), '10:00', 'SALA COMUN', 2)\n(266, datetime.date(2020, 3, 18), '10:00', 'PISCINA', 2)\n(271, datetime.date(2020, 9, 7), '19:30', 'PADEL', 2)\n(273, datetime.date(2021, 6, 15), '16:00', 'PISCINA', 2)\n(274, datetime.date(2013, 8, 27), '10:00', 'GIMNASIO', 2)\n(293, datetime.date(2017, 8, 18), '16:30', 'PADEL', 2)\n(306, datetime.date(2013, 10, 14), '10:00', 'PISCINA,SALA COMUN', 2)\n(315, datetime.date(2017, 4, 29), '16:00', 'GIMNASIO,PISCINA', 2)\n(323, datetime.date(2020, 2, 20), '16:30', 'PADEL', 2)\n(325, datetime.date(2020, 12, 28), '15:00', 'PADEL', 2)\n(329, datetime.date(2013, 3, 22), '10:30', 'PADEL', 2)\n(342, datetime.date(2017, 9, 22), '10:00', 'PISCINA,SALA COMUN', 2)\n(359, datetime.date(2013, 2, 20), '13:30', 'PADEL', 2)\n(371, datetime.date(2021, 4, 13), '10:00', 'GIMNASIO,SALA COMUN', 2)\n"
     ]
    }
   ],
   "source": [
    "query = \"\"\"\n",
    "    SELECT\n",
    "        user_id,\n",
    "        date,\n",
    "        start_time,\n",
    "        GROUP_CONCAT(DISTINCT type),\n",
    "        COUNT(*) AS TOTAL\n",
    "    FROM (\n",
    "        SELECT user_id, date, start_time, type\n",
    "        FROM (\n",
    "            SELECT id, resource_id, user_id, date\n",
    "            FROM reservation\n",
    "            WHERE status IN ('CONFIRMED', 'EXECUTED')) AS RE\n",
    "        LEFT JOIN (\n",
    "            SELECT id, timetable_id, type\n",
    "            FROM resource) AS R\n",
    "        ON RE.resource_id = R.id\n",
    "        LEFT JOIN (\n",
    "            SELECT id, start_time, end_time\n",
    "            FROM timetable) AS T\n",
    "        ON T.id = R.timetable_id) AS M\n",
    "    GROUP BY user_id, date, start_time\n",
    "    HAVING TOTAL > 1;\n",
    "\"\"\"\n",
    "query_db(query)"
   ]
  },
  {
   "cell_type": "code",
   "execution_count": 14,
   "metadata": {},
   "outputs": [
    {
     "output_type": "stream",
     "name": "stdout",
     "text": [
      "(377, datetime.date(2014, 11, 19), '10:00', '16:00', 'PISCINA')\n(377, datetime.date(2014, 11, 19), '13:30', '15:00', 'PADEL')\n"
     ]
    }
   ],
   "source": [
    "query = \"\"\"\n",
    "        SELECT user_id, date, start_time, end_time, type\n",
    "        FROM (\n",
    "            SELECT id, resource_id, user_id, date\n",
    "            FROM reservation\n",
    "            WHERE status IN ('CONFIRMED', 'EXECUTED')\n",
    "                AND user_id = 377\n",
    "                AND date = '2014-11-19') AS RE\n",
    "        LEFT JOIN (\n",
    "            SELECT id, timetable_id, type\n",
    "            FROM resource) AS R\n",
    "        ON RE.resource_id = R.id\n",
    "        LEFT JOIN (\n",
    "            SELECT id, start_time, end_time\n",
    "            FROM timetable) AS T\n",
    "        ON T.id = R.timetable_id\n",
    "        ORDER BY start_time ASC\n",
    "\"\"\"\n",
    "query_db(query)"
   ]
  },
  {
   "cell_type": "code",
   "execution_count": 22,
   "metadata": {},
   "outputs": [
    {
     "output_type": "stream",
     "name": "stdout",
     "text": [
      "(377, datetime.date(2014, 11, 19), '10:00', '16:00', '13:30', 1)\n(373, datetime.date(2022, 2, 3), '10:00', '16:00', '15:00', 1)\n(371, datetime.date(2021, 4, 13), '10:00', '16:00', '10:00', 1)\n(365, datetime.date(2022, 7, 22), '10:00', '22:00', '15:00', 1)\n(365, datetime.date(2019, 9, 19), '10:00', '22:00', '19:30', 1)\n(359, datetime.date(2013, 2, 20), '13:30', '15:00', '13:30', 1)\n(356, datetime.date(2017, 3, 6), '10:00', '22:00', '21:00', 1)\n(355, datetime.date(2022, 3, 5), '10:00', '22:00', '21:00', 1)\n(348, datetime.date(2022, 2, 17), '10:00', '16:00', '15:00', 1)\n(348, datetime.date(2019, 12, 10), '10:00', '16:00', '15:00', 1)\n(344, datetime.date(2018, 8, 3), '15:00', '16:30', '16:00', 1)\n(342, datetime.date(2017, 9, 22), '10:00', '16:00', '10:00', 1)\n(341, datetime.date(2018, 11, 16), '09:00', '10:30', '10:00', 1)\n(329, datetime.date(2013, 3, 22), '10:30', '12:00', '10:30', 1)\n(325, datetime.date(2020, 12, 28), '15:00', '16:30', '15:00', 1)\n(323, datetime.date(2020, 2, 20), '16:30', '18:00', '16:30', 1)\n(323, datetime.date(2013, 12, 30), '10:00', '16:00', '15:00', 1)\n(317, datetime.date(2018, 9, 12), '10:00', '16:00', '15:00', 1)\n(317, datetime.date(2013, 8, 27), '10:00', '16:00', '13:30', 1)\n(315, datetime.date(2017, 4, 29), '16:00', '22:00', '16:00', 1)\n(308, datetime.date(2013, 5, 15), '10:00', '16:00', '10:30', 1)\n(306, datetime.date(2013, 10, 14), '10:00', '16:00', '10:00', 1)\n(293, datetime.date(2022, 3, 8), '10:00', '22:00', '21:00', 1)\n(293, datetime.date(2017, 8, 18), '16:30', '18:00', '16:30', 1)\n(291, datetime.date(2017, 4, 8), '10:00', '16:00', '13:30', 1)\n(280, datetime.date(2022, 1, 24), '16:00', '22:00', '18:00', 1)\n(274, datetime.date(2013, 8, 27), '10:00', '16:00', '10:00', 1)\n(273, datetime.date(2021, 6, 15), '16:00', '22:00', '16:00', 1)\n(271, datetime.date(2020, 9, 7), '19:30', '21:00', '19:30', 1)\n(266, datetime.date(2020, 3, 18), '10:00', '16:00', '10:00', 1)\n(259, datetime.date(2022, 2, 13), '10:00', '22:00', '10:00', 1)\n(257, datetime.date(2017, 9, 11), '09:00', '10:30', '10:00', 1)\n(247, datetime.date(2021, 7, 19), '10:00', '16:00', '10:00', 1)\n(245, datetime.date(2020, 8, 28), '16:00', '22:00', '18:00', 1)\n(245, datetime.date(2013, 12, 4), '10:00', '22:00', '12:00', 1)\n(243, datetime.date(2020, 12, 26), '16:00', '22:00', '16:00', 1)\n(243, datetime.date(2015, 9, 27), '10:00', '22:00', '12:00', 1)\n(241, datetime.date(2018, 11, 4), '10:00', '16:00', '10:30', 1)\n(239, datetime.date(2020, 9, 25), '12:00', '13:30', '12:00', 1)\n(236, datetime.date(2018, 4, 14), '10:00', '16:00', '12:00', 1)\n(232, datetime.date(2020, 8, 23), '16:00', '22:00', '21:00', 1)\n(230, datetime.date(2021, 4, 29), '16:00', '22:00', '16:00', 1)\n(229, datetime.date(2020, 11, 11), '10:00', '22:00', '12:00', 1)\n(228, datetime.date(2019, 5, 18), '10:00', '16:00', '15:00', 1)\n(226, datetime.date(2016, 11, 8), '18:00', '19:30', '18:00', 1)\n(224, datetime.date(2020, 11, 11), '09:00', '10:30', '10:00', 1)\n(224, datetime.date(2014, 1, 15), '21:00', '22:30', '21:00', 1)\n(221, datetime.date(2019, 12, 30), '16:00', '22:00', '18:00', 1)\n(220, datetime.date(2020, 9, 26), '16:00', '22:00', '16:00', 1)\n(217, datetime.date(2021, 7, 2), '16:00', '22:00', '16:00', 1)\n(217, datetime.date(2015, 6, 26), '10:00', '16:00', '10:00', 1)\n(215, datetime.date(2014, 2, 13), '16:00', '22:00', '19:30', 1)\n(208, datetime.date(2022, 3, 23), '16:00', '22:00', '16:30', 1)\n(206, datetime.date(2014, 2, 7), '16:00', '22:00', '21:00', 1)\n(205, datetime.date(2021, 5, 19), '16:00', '22:00', '19:30', 1)\n(193, datetime.date(2019, 10, 23), '10:00', '22:00', '15:00', 1)\n(193, datetime.date(2015, 6, 24), '10:00', '22:00', '10:30', 1)\n(192, datetime.date(2017, 1, 29), '16:00', '22:00', '18:00', 1)\n(191, datetime.date(2021, 4, 11), '16:00', '22:00', '21:00', 1)\n(191, datetime.date(2020, 12, 5), '10:00', '22:00', '16:00', 1)\n(182, datetime.date(2017, 12, 3), '10:00', '22:00', '21:00', 1)\n(181, datetime.date(2022, 5, 28), '16:00', '22:00', '21:00', 1)\n(178, datetime.date(2017, 4, 3), '10:00', '16:00', '10:30', 1)\n(176, datetime.date(2014, 5, 26), '15:00', '16:30', '16:00', 1)\n(171, datetime.date(2022, 8, 28), '10:00', '16:00', '10:00', 1)\n(170, datetime.date(2020, 9, 30), '10:00', '22:00', '16:30', 1)\n(170, datetime.date(2018, 1, 10), '10:00', '22:00', '13:30', 1)\n(170, datetime.date(2017, 5, 20), '10:00', '16:00', '13:30', 1)\n(167, datetime.date(2021, 9, 29), '15:00', '16:30', '16:00', 1)\n(166, datetime.date(2021, 6, 7), '10:00', '22:00', '16:00', 1)\n(166, datetime.date(2020, 4, 28), '10:00', '22:00', '12:00', 1)\n(159, datetime.date(2018, 10, 22), '10:30', '12:00', '10:30', 1)\n(156, datetime.date(2013, 7, 5), '10:00', '16:00', '10:30', 1)\n(148, datetime.date(2020, 1, 21), '10:00', '16:00', '15:00', 1)\n(143, datetime.date(2020, 12, 11), '16:00', '22:00', '21:00', 1)\n(142, datetime.date(2018, 8, 23), '10:00', '16:00', '15:00', 1)\n(138, datetime.date(2021, 7, 25), '16:00', '22:00', '16:30', 1)\n(137, datetime.date(2015, 4, 30), '10:00', '22:00', '13:30', 1)\n(132, datetime.date(2013, 7, 11), '16:00', '22:00', '16:00', 1)\n(130, datetime.date(2013, 2, 27), '13:30', '15:00', '13:30', 1)\n(128, datetime.date(2019, 7, 30), '15:00', '16:30', '16:00', 1)\n(125, datetime.date(2021, 9, 20), '15:00', '16:30', '16:00', 1)\n(123, datetime.date(2014, 5, 21), '10:00', '22:00', '10:00', 1)\n(121, datetime.date(2022, 4, 28), '10:00', '16:00', '12:00', 1)\n(119, datetime.date(2015, 4, 10), '19:30', '21:00', '19:30', 1)\n(117, datetime.date(2016, 10, 10), '16:00', '22:00', '18:00', 1)\n(111, datetime.date(2017, 7, 23), '10:00', '16:00', '13:30', 1)\n(110, datetime.date(2022, 8, 24), '10:00', '22:00', '12:00', 1)\n(107, datetime.date(2013, 2, 9), '10:00', '16:00', '10:30', 1)\n(103, datetime.date(2017, 5, 22), '09:00', '10:30', '09:00', 1)\n(102, datetime.date(2019, 11, 13), '16:00', '22:00', '18:00', 1)\n(93, datetime.date(2020, 12, 1), '10:00', '22:00', '10:00', 1)\n(90, datetime.date(2013, 8, 6), '10:00', '22:00', '15:00', 1)\n(87, datetime.date(2015, 5, 23), '10:00', '16:00', '15:00', 1)\n(87, datetime.date(2014, 10, 15), '10:00', '16:00', '15:00', 1)\n(84, datetime.date(2018, 3, 21), '10:00', '16:00', '12:00', 1)\n(83, datetime.date(2017, 11, 16), '15:00', '16:30', '16:00', 1)\n(82, datetime.date(2018, 11, 30), '10:00', '16:00', '15:00', 1)\n(81, datetime.date(2020, 9, 27), '10:00', '22:00', '10:30', 1)\n(74, datetime.date(2015, 7, 17), '16:00', '22:00', '18:00', 1)\n(71, datetime.date(2014, 6, 14), '16:00', '22:00', '16:30', 1)\n(61, datetime.date(2015, 8, 2), '10:00', '22:00', '16:30', 1)\n(56, datetime.date(2018, 9, 29), '15:00', '16:30', '16:00', 1)\n(55, datetime.date(2021, 7, 31), '10:00', '22:00', '13:30', 1)\n(53, datetime.date(2021, 8, 20), '10:00', '22:00', '10:00', 1)\n(49, datetime.date(2022, 2, 13), '16:00', '22:00', '21:00', 1)\n(46, datetime.date(2020, 5, 7), '16:00', '22:00', '16:30', 1)\n(45, datetime.date(2015, 8, 23), '10:00', '22:00', '13:30', 1)\n(45, datetime.date(2014, 6, 26), '19:30', '21:00', '19:30', 1)\n(44, datetime.date(2021, 5, 10), '16:30', '18:00', '16:30', 1)\n(44, datetime.date(2016, 9, 21), '10:00', '22:00', '10:00', 1)\n(42, datetime.date(2013, 9, 11), '10:00', '22:00', '16:30', 1)\n(37, datetime.date(2017, 10, 28), '16:00', '22:00', '19:30', 1)\n(33, datetime.date(2021, 10, 15), '10:00', '22:00', '10:00', 1)\n(30, datetime.date(2018, 7, 31), '16:00', '22:00', '19:30', 1)\n(29, datetime.date(2022, 10, 8), '10:00', '16:00', '12:00', 1)\n(25, datetime.date(2018, 11, 2), '09:00', '10:30', '10:00', 1)\n(22, datetime.date(2019, 9, 21), '10:00', '16:00', '10:00', 1)\n(18, datetime.date(2017, 11, 16), '16:00', '22:00', '16:00', 1)\n(17, datetime.date(2021, 12, 19), '16:00', '22:00', '18:00', 1)\n(16, datetime.date(2016, 12, 14), '09:00', '10:30', '10:00', 1)\n(9, datetime.date(2020, 6, 10), '10:00', '16:00', '15:00', 1)\n(6, datetime.date(2022, 9, 1), '10:00', '22:00', '19:30', 1)\n(3, datetime.date(2021, 6, 8), '13:30', '15:00', '13:30', 1)\n"
     ]
    }
   ],
   "source": [
    "# https://www.mysqltutorial.org/mysql-window-functions/mysql-lag-function/\n",
    "\n",
    "query = \"\"\"\n",
    "    SELECT *\n",
    "    FROM (\n",
    "        SELECT  user_id, date, start_time, end_time, post_start_time,\n",
    "            CASE \n",
    "                WHEN end_time > post_start_time THEN 1\n",
    "                ELSE 0\n",
    "            END HAS_DUP\n",
    "        FROM (\n",
    "            SELECT user_id, date, start_time, end_time,\n",
    "                LAG(start_time, 1) OVER (\n",
    "                    PARTITION BY user_id, date\n",
    "                    ORDER BY start_time DESC) AS post_start_time\n",
    "            FROM (\n",
    "                SELECT id, resource_id, user_id, date\n",
    "                FROM reservation\n",
    "                WHERE status IN ('CONFIRMED', 'EXECUTED')) AS RE\n",
    "            LEFT JOIN (\n",
    "                SELECT id, timetable_id, type\n",
    "                FROM resource) AS R\n",
    "            ON RE.resource_id = R.id\n",
    "            LEFT JOIN (\n",
    "                SELECT id, start_time, end_time\n",
    "                FROM timetable) AS T\n",
    "            ON T.id = R.timetable_id\n",
    "            ORDER BY user_id DESC, date DESC, start_time DESC) AS M\n",
    "        WHERE post_start_time IS NOT NULL) AS X\n",
    "    WHERE HAS_DUP = 1;\n",
    "\"\"\"\n",
    "query_db(query)"
   ]
  },
  {
   "cell_type": "code",
   "execution_count": 29,
   "metadata": {},
   "outputs": [
    {
     "output_type": "stream",
     "name": "stdout",
     "text": [
      "(298, Decimal('201.50'))\n(197, Decimal('193.25'))\n(123, Decimal('190.50'))\n(119, Decimal('190.00'))\n(117, Decimal('187.75'))\n(69, Decimal('187.75'))\n(318, Decimal('187.00'))\n(2, Decimal('182.00'))\n(304, Decimal('181.75'))\n(292, Decimal('178.50'))\n"
     ]
    }
   ],
   "source": [
    "query = \"\"\"\n",
    "\n",
    "            SELECT user_id, SUM(price) AS TOTAL\n",
    "            FROM (\n",
    "                SELECT id, resource_id, user_id, date\n",
    "                FROM reservation\n",
    "                WHERE status IN ('CONFIRMED', 'EXECUTED')) AS RE\n",
    "            LEFT JOIN (\n",
    "                SELECT id, price\n",
    "                FROM resource) AS R\n",
    "            ON RE.resource_id = R.id\n",
    "            GROUP BY user_id\n",
    "            ORDER BY TOTAL DESC\n",
    "            LIMIT 10\n",
    "\"\"\"\n",
    "query_db(query)"
   ]
  },
  {
   "cell_type": "code",
   "execution_count": 30,
   "metadata": {},
   "outputs": [
    {
     "output_type": "stream",
     "name": "stdout",
     "text": [
      "(86, Decimal('77.00'))\n(370, Decimal('85.25'))\n(34, Decimal('87.75'))\n(160, Decimal('90.50'))\n(85, Decimal('96.25'))\n(51, Decimal('96.25'))\n(338, Decimal('98.50'))\n(287, Decimal('98.50'))\n(244, Decimal('100.75'))\n(301, Decimal('101.50'))\n"
     ]
    }
   ],
   "source": [
    "query = \"\"\"\n",
    "\n",
    "            SELECT user_id, SUM(price) AS TOTAL\n",
    "            FROM (\n",
    "                SELECT id, resource_id, user_id, date\n",
    "                FROM reservation\n",
    "                WHERE status IN ('CONFIRMED', 'EXECUTED')) AS RE\n",
    "            LEFT JOIN (\n",
    "                SELECT id, price\n",
    "                FROM resource) AS R\n",
    "            ON RE.resource_id = R.id\n",
    "            GROUP BY user_id\n",
    "            ORDER BY TOTAL ASC\n",
    "            LIMIT 10\n",
    "\"\"\"\n",
    "query_db(query)"
   ]
  },
  {
   "cell_type": "code",
   "execution_count": 46,
   "metadata": {},
   "outputs": [
    {
     "output_type": "stream",
     "name": "stdout",
     "text": [
      "(12, 11, Decimal('3.00'), 6)\n(13, 12, Decimal('5.00'), 6)\n"
     ]
    }
   ],
   "source": [
    "query = \"\"\"\n",
    "    SELECT id, timetable_id, price, max_pax\n",
    "    FROM resource\n",
    "    WHERE type = 'GIMNASIO'\n",
    "\"\"\"\n",
    "query_db(query)"
   ]
  },
  {
   "cell_type": "code",
   "execution_count": 42,
   "metadata": {},
   "outputs": [
    {
     "output_type": "stream",
     "name": "stdout",
     "text": [
      "(10, '10:00', '22:00')\n"
     ]
    }
   ],
   "source": [
    "query = \"\"\"\n",
    "    SELECT id, start_time, end_time\n",
    "    FROM timetable\n",
    "    WHERE id = 10\n",
    "\"\"\"\n",
    "query_db(query)"
   ]
  },
  {
   "cell_type": "code",
   "execution_count": 50,
   "metadata": {},
   "outputs": [
    {
     "output_type": "stream",
     "name": "stdout",
     "text": [
      "(Decimal('24090.00'),)\n"
     ]
    }
   ],
   "source": [
    "query = \"\"\"\n",
    "SELECT Y.TOTAL + Z.TOTAL\n",
    "FROM (\n",
    "    SELECT SUM(price) * 365 AS TOTAL\n",
    "    FROM (\n",
    "        SELECT id, price\n",
    "        FROM resource\n",
    "        WHERE type IN ('PADEL', 'SALA COMUN')) AS R) AS Y\n",
    "LEFT JOIN (\n",
    "    SELECT SUM(price * max_pax) * 365 AS TOTAL\n",
    "    FROM (\n",
    "        SELECT id, price, max_pax\n",
    "        FROM resource\n",
    "        WHERE type = 'GIMNASIO') AS P) AS Z\n",
    "ON 1 = 1;\n",
    "\"\"\"\n",
    "query_db(query)"
   ]
  },
  {
   "cell_type": "code",
   "execution_count": 67,
   "metadata": {},
   "outputs": [
    {
     "output_type": "stream",
     "name": "stdout",
     "text": [
      "(Decimal('24090.00'),)\n"
     ]
    }
   ],
   "source": [
    "query = \"\"\"\n",
    "SELECT SUM(TOTAL)\n",
    "FROM (\n",
    "    SELECT SUM(price) * 365 AS TOTAL\n",
    "    FROM (\n",
    "        SELECT id, price\n",
    "        FROM resource\n",
    "        WHERE type IN ('PADEL', 'SALA COMUN')) AS R\n",
    "    UNION\n",
    "    SELECT SUM(price * max_pax) * 365 AS TOTAL\n",
    "    FROM (\n",
    "        SELECT id, price, max_pax\n",
    "        FROM resource\n",
    "        WHERE type = 'GIMNASIO') AS P) AS Z;\n",
    "\"\"\"\n",
    "query_db(query)"
   ]
  },
  {
   "cell_type": "code",
   "execution_count": 65,
   "metadata": {},
   "outputs": [
    {
     "output_type": "stream",
     "name": "stdout",
     "text": [
      "(Decimal('4772.068182'),)\n"
     ]
    }
   ],
   "source": [
    "query = \"\"\"\n",
    "\n",
    "SELECT\n",
    "    AVG(TOTAL)\n",
    "FROM (\n",
    "    SELECT\n",
    "        YEAR(date) AS YEAR, \n",
    "        SUM(price) AS TOTAL\n",
    "    FROM (\n",
    "\n",
    "        SELECT date, price\n",
    "        FROM (\n",
    "            SELECT id, resource_id, date\n",
    "            FROM reservation\n",
    "            WHERE status IN ('CONFIRMED', 'EXECUTED')) AS RE\n",
    "        LEFT JOIN (\n",
    "            SELECT id, price\n",
    "            FROM resource) AS R\n",
    "        ON RE.resource_id = R.id) AS R\n",
    "    GROUP BY YEAR(date)) AS D;\n",
    "\"\"\"\n",
    "query_db(query)"
   ]
  },
  {
   "cell_type": "code",
   "execution_count": 75,
   "metadata": {
    "tags": []
   },
   "outputs": [
    {
     "output_type": "stream",
     "name": "stdout",
     "text": [
      "(datetime.date(2022, 11, 4), 'SALA COMUN', Decimal('5.00'), 1)\n(datetime.date(2022, 11, 4), 'PISCINA', Decimal('0.00'), 3)\n(datetime.date(2022, 11, 4), 'PADEL', Decimal('7.00'), 6)\n(datetime.date(2022, 11, 4), 'GIMNASIO', Decimal('5.00'), 1)\n(datetime.date(2022, 11, 3), 'PADEL', Decimal('3.00'), 3)\n(datetime.date(2022, 11, 3), 'GIMNASIO', Decimal('14.00'), 4)\n(datetime.date(2022, 11, 2), 'PADEL', Decimal('13.25'), 11)\n(datetime.date(2022, 11, 2), 'GIMNASIO', Decimal('6.00'), 2)\n(datetime.date(2022, 11, 1), 'SALA COMUN', Decimal('5.00'), 1)\n(datetime.date(2022, 11, 1), 'PISCINA', Decimal('0.00'), 2)\n"
     ]
    }
   ],
   "source": [
    "query = \"\"\"\n",
    "        SELECT \n",
    "            date, type, SUM(price), COUNT(date)\n",
    "        FROM (\n",
    "            SELECT id, resource_id, date\n",
    "            FROM reservation\n",
    "            WHERE status IN ('CONFIRMED', 'EXECUTED')) AS RE\n",
    "        LEFT JOIN (\n",
    "            SELECT id, price, type\n",
    "            FROM resource) AS R\n",
    "        ON RE.resource_id = R.id\n",
    "        GROUP BY date, type\n",
    "        ORDER BY date DESC, type DESC\n",
    "        LIMIT 10;\n",
    "\"\"\"\n",
    "query_db(query)"
   ]
  },
  {
   "cell_type": "code",
   "execution_count": null,
   "metadata": {},
   "outputs": [],
   "source": []
  }
 ]
}