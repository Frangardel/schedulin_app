{
 "metadata": {
  "language_info": {
   "codemirror_mode": {
    "name": "ipython",
    "version": 3
   },
   "file_extension": ".py",
   "mimetype": "text/x-python",
   "name": "python",
   "nbconvert_exporter": "python",
   "pygments_lexer": "ipython3",
   "version": "3.9.2-final"
  },
  "orig_nbformat": 2,
  "kernelspec": {
   "name": "python3",
   "display_name": "Python 3 (ipykernel)"
  }
 },
 "nbformat": 4,
 "nbformat_minor": 2,
 "cells": [
  {
   "source": [
    "# INTRODUCCION A REDIS\n",
    "\n",
    "¿Qué es Redis?\n",
    "Redis, que significa Remote Dictionary Server, es un rápido almacén de datos clave-valor en memoria de código abierto. El proyecto se inició cuando Salvatore Sanfilippo, el desarrollador original de Redis, trataba de mejorar la escalabilidad de su empresa emergente italiana. A partir de ahí, desarrolló Redis, que ahora se utiliza como base de datos, caché, agente de mensajes y cola.\n",
    "\n",
    "Redis ofrece tiempos de respuesta inferiores al milisegundo, lo que permite que se realicen millones de solicitudes por segundo para aplicaciones en tiempo real de la industria, como videojuegos, tecnología publicitaria, servicios financieros, sanidad e IoT. Hoy en día, Redis es uno de los motores de código abierto más populares en la actualidad, denominado la base de datos “preferida” por Stack Overflow durante cinco años consecutivos. Por su rápido rendimiento, Redis es una opción muy habitual en aplicaciones de almacenamiento en caché, administración de sesiones, videojuegos, tablas de clasificación, análisis en tiempo real, datos geoespaciales, servicios de vehículos compartidos, chat/mensajería, streaming de contenido multimedia y publicación/suscripción."
   ],
   "cell_type": "markdown",
   "metadata": {}
  },
  {
   "cell_type": "code",
   "execution_count": 1,
   "metadata": {},
   "outputs": [
    {
     "output_type": "stream",
     "name": "stdout",
     "text": [
      "Requirement already satisfied: redis in /home/gustavo_martin/.local/lib/python3.9/site-packages (4.3.4)\n",
      "Requirement already satisfied: deprecated>=1.2.3 in /home/gustavo_martin/.local/lib/python3.9/site-packages (from redis) (1.2.13)\n",
      "Requirement already satisfied: async-timeout>=4.0.2 in /home/gustavo_martin/.local/lib/python3.9/site-packages (from redis) (4.0.2)\n",
      "Requirement already satisfied: packaging>=20.4 in /usr/local/lib/python3.9/dist-packages (from redis) (21.3)\n",
      "Requirement already satisfied: wrapt<2,>=1.10 in /usr/local/lib/python3.9/dist-packages (from deprecated>=1.2.3->redis) (1.14.1)\n",
      "Requirement already satisfied: pyparsing!=3.0.5,>=2.0.2 in /usr/local/lib/python3.9/dist-packages (from packaging>=20.4->redis) (3.0.9)\n"
     ]
    }
   ],
   "source": [
    "#! pip3 install redis"
   ]
  },
  {
   "cell_type": "code",
   "execution_count": 2,
   "metadata": {},
   "outputs": [],
   "source": [
    "import redis\n",
    "import datetime\n",
    "import random\n",
    "import pprint as pp"
   ]
  },
  {
   "cell_type": "code",
   "execution_count": 6,
   "metadata": {},
   "outputs": [],
   "source": [
    "r = redis.Redis(\n",
    "    host = 'redis-15068.c293.eu-central-1-1.ec2.cloud.redislabs.com',\n",
    "    port = 15068, \n",
    "    password = 'cYOynaYqvK5HNloFXScAEfwfAeE6JOov')"
   ]
  },
  {
   "cell_type": "code",
   "execution_count": 7,
   "metadata": {},
   "outputs": [
    {
     "output_type": "execute_result",
     "data": {
      "text/plain": [
       "True"
      ]
     },
     "metadata": {},
     "execution_count": 7
    }
   ],
   "source": [
    "# https://redis.io/commands/set/\n",
    "\n",
    "r.set('user', 'mike.platinas@gmail.com')"
   ]
  },
  {
   "cell_type": "code",
   "execution_count": 11,
   "metadata": {},
   "outputs": [
    {
     "output_type": "stream",
     "name": "stdout",
     "text": [
      "b'mike.platinas@gmail.com'\n"
     ]
    }
   ],
   "source": [
    "# https://redis.io/commands/get/\n",
    "\n",
    "value = r.get('user')\n",
    "print(value)"
   ]
  },
  {
   "cell_type": "code",
   "execution_count": 9,
   "metadata": {},
   "outputs": [
    {
     "output_type": "stream",
     "name": "stdout",
     "text": [
      "b'mike.platinas@gmail.com'\n"
     ]
    }
   ],
   "source": [
    "value = r['user']\n",
    "print(value)"
   ]
  },
  {
   "cell_type": "code",
   "execution_count": 12,
   "metadata": {},
   "outputs": [
    {
     "output_type": "stream",
     "name": "stdout",
     "text": [
      "mike.platinas@gmail.com\n"
     ]
    }
   ],
   "source": [
    "print(value.decode(\"UTF-8\"))"
   ]
  },
  {
   "cell_type": "code",
   "execution_count": 15,
   "metadata": {},
   "outputs": [],
   "source": [
    "#r.keys()"
   ]
  },
  {
   "cell_type": "code",
   "execution_count": 16,
   "metadata": {},
   "outputs": [
    {
     "output_type": "execute_result",
     "data": {
      "text/plain": [
       "True"
      ]
     },
     "metadata": {},
     "execution_count": 16
    }
   ],
   "source": [
    "# https://redis.io/commands/mset/\n",
    "\n",
    "capital_dict = {\n",
    "    \"Spain\":\"Madrid\", \n",
    "    \"Croatia\": \"Zagreb\", \n",
    "    \"Bahamas\": \"Nassau\"}\n",
    "r.mset(capital_dict)"
   ]
  },
  {
   "cell_type": "code",
   "execution_count": 17,
   "metadata": {},
   "outputs": [
    {
     "output_type": "execute_result",
     "data": {
      "text/plain": [
       "'Madrid'"
      ]
     },
     "metadata": {},
     "execution_count": 17
    }
   ],
   "source": [
    "capital_dict[\"Spain\"]"
   ]
  },
  {
   "cell_type": "code",
   "execution_count": 18,
   "metadata": {},
   "outputs": [
    {
     "output_type": "error",
     "ename": "NameError",
     "evalue": "name 'capital_dict' is not defined",
     "traceback": [
      "\u001b[0;31m---------------------------------------------------------------------------\u001b[0m",
      "\u001b[0;31mNameError\u001b[0m                                 Traceback (most recent call last)",
      "Cell \u001b[0;32mIn [18], line 2\u001b[0m\n\u001b[1;32m      1\u001b[0m \u001b[38;5;28;01mdel\u001b[39;00m capital_dict\n\u001b[0;32m----> 2\u001b[0m \u001b[43mcapital_dict\u001b[49m[\u001b[38;5;124m\"\u001b[39m\u001b[38;5;124mSpain\u001b[39m\u001b[38;5;124m\"\u001b[39m]\n",
      "\u001b[0;31mNameError\u001b[0m: name 'capital_dict' is not defined"
     ]
    }
   ],
   "source": [
    "del capital_dict\n",
    "capital_dict[\"Spain\"]"
   ]
  },
  {
   "cell_type": "code",
   "execution_count": 19,
   "metadata": {},
   "outputs": [
    {
     "output_type": "stream",
     "name": "stdout",
     "text": [
      "Madrid\n"
     ]
    }
   ],
   "source": [
    "value = r.get('Spain')\n",
    "print(value.decode(\"UTF-8\"))"
   ]
  },
  {
   "cell_type": "code",
   "execution_count": 20,
   "metadata": {},
   "outputs": [
    {
     "output_type": "execute_result",
     "data": {
      "text/plain": [
       "3"
      ]
     },
     "metadata": {},
     "execution_count": 20
    }
   ],
   "source": [
    "# https://redis.io/commands/sadd/\n",
    "\n",
    "today = datetime.date.today()\n",
    "today_str = today.isoformat()\n",
    "users = {\n",
    "    \"mike.platinas@mail.com\", \n",
    "    \"john.doe@mail.com\", \n",
    "    \"alex.delaiglesia@mail.com\"}\n",
    "r.sadd(today_str, *users)"
   ]
  },
  {
   "cell_type": "code",
   "execution_count": 25,
   "metadata": {},
   "outputs": [
    {
     "output_type": "stream",
     "name": "stdout",
     "text": [
      "alex.delaiglesia@mail.com\nmike.platinas@mail.com\njohn.doe@mail.com\n"
     ]
    }
   ],
   "source": [
    "# https://redis.io/commands/smembers/\n",
    "\n",
    "for m in r.smembers(today_str):\n",
    "    print(m.decode(\"UTF-8\"))"
   ]
  },
  {
   "cell_type": "code",
   "execution_count": 24,
   "metadata": {},
   "outputs": [
    {
     "output_type": "execute_result",
     "data": {
      "text/plain": [
       "0"
      ]
     },
     "metadata": {},
     "execution_count": 24
    }
   ],
   "source": [
    "r.sadd(today_str, \"alex.delaiglesia@mail.com\")"
   ]
  },
  {
   "cell_type": "code",
   "execution_count": 26,
   "metadata": {},
   "outputs": [
    {
     "output_type": "execute_result",
     "data": {
      "text/plain": [
       "1"
      ]
     },
     "metadata": {},
     "execution_count": 26
    }
   ],
   "source": [
    "r.sadd(today_str, \"perico.eldelospalotes@mail.com\")"
   ]
  },
  {
   "cell_type": "code",
   "execution_count": 27,
   "metadata": {},
   "outputs": [
    {
     "output_type": "stream",
     "name": "stdout",
     "text": [
      "alex.delaiglesia@mail.com\nmike.platinas@mail.com\njohn.doe@mail.com\nperico.eldelospalotes@mail.com\n"
     ]
    }
   ],
   "source": [
    "# https://redis.io/commands/smembers/\n",
    "\n",
    "for m in r.smembers(today_str):\n",
    "    print(m.decode(\"UTF-8\"))"
   ]
  },
  {
   "cell_type": "code",
   "execution_count": 28,
   "metadata": {},
   "outputs": [
    {
     "output_type": "execute_result",
     "data": {
      "text/plain": [
       "4"
      ]
     },
     "metadata": {},
     "execution_count": 28
    }
   ],
   "source": [
    "# https://redis.io/commands/scard/\n",
    "\n",
    "r.scard(today_str)"
   ]
  },
  {
   "cell_type": "code",
   "execution_count": 29,
   "metadata": {},
   "outputs": [],
   "source": [
    "random.seed(444)\n",
    "users = {f\"user:{random.getrandbits(32)}\": i for i in (\n",
    "    {\n",
    "        \"name\": \"Kevin\",\n",
    "        \"surname\": \"Bacon\",\n",
    "        \"email\": \"kevin.bacon@mail.com\",\n",
    "        \"gender\": \"M\",\n",
    "        \"age\": 56,\n",
    "    },\n",
    "    {\n",
    "        \"name\": \"Martin\",\n",
    "        \"surname\": \"Smith\",\n",
    "        \"email\": \"martin.smith@mail.com\",\n",
    "        \"gender\": \"M\",\n",
    "        \"age\": 24,\n",
    "    },\n",
    "    {\n",
    "        \"name\": \"Sarah\",\n",
    "        \"surname\": \"Doe\",\n",
    "        \"email\": \"sarah.doe@mail.com\",\n",
    "        \"gender\": \"F\",\n",
    "        \"age\": 37,\n",
    "    })\n",
    "}"
   ]
  },
  {
   "cell_type": "code",
   "execution_count": 40,
   "metadata": {},
   "outputs": [],
   "source": [
    "with r.pipeline() as pipe:\n",
    "    for id, user in users.items():\n",
    "        pipe.hset(id, mapping = user)\n",
    "    pipe.execute()"
   ]
  },
  {
   "cell_type": "code",
   "execution_count": 30,
   "metadata": {},
   "outputs": [
    {
     "output_type": "execute_result",
     "data": {
      "text/plain": [
       "[b'Bahamas',\n",
       " b'Spain',\n",
       " b'Croatia',\n",
       " b'2022-11-07',\n",
       " b'2022-11-12',\n",
       " b'hat:56854717',\n",
       " b'user:1326692461',\n",
       " b'user:56854717',\n",
       " b'user',\n",
       " b'user:1236154736']"
      ]
     },
     "metadata": {},
     "execution_count": 30
    }
   ],
   "source": [
    "r.keys()"
   ]
  },
  {
   "cell_type": "code",
   "execution_count": 31,
   "metadata": {},
   "outputs": [
    {
     "output_type": "stream",
     "name": "stdout",
     "text": [
      "{b'age': b'38',\n b'email': b'sarah.doe@mail.com',\n b'gender': b'F',\n b'name': b'Sarah',\n b'quantity': b'1',\n b'surname': b'Doe'}\n"
     ]
    }
   ],
   "source": [
    "pp.pprint(r.hgetall(\"user:56854717\"))"
   ]
  },
  {
   "cell_type": "code",
   "execution_count": 32,
   "metadata": {},
   "outputs": [
    {
     "output_type": "execute_result",
     "data": {
      "text/plain": [
       "39"
      ]
     },
     "metadata": {},
     "execution_count": 32
    }
   ],
   "source": [
    "r.hincrby(\"user:56854717\", \"age\", 1)"
   ]
  },
  {
   "cell_type": "code",
   "execution_count": 55,
   "metadata": {},
   "outputs": [
    {
     "output_type": "execute_result",
     "data": {
      "text/plain": [
       "b'38'"
      ]
     },
     "metadata": {},
     "execution_count": 55
    }
   ],
   "source": [
    "r.hget(\"user:56854717\", \"age\")"
   ]
  },
  {
   "cell_type": "code",
   "execution_count": 33,
   "metadata": {},
   "outputs": [
    {
     "output_type": "execute_result",
     "data": {
      "text/plain": [
       "[b'F', b'39']"
      ]
     },
     "metadata": {},
     "execution_count": 33
    }
   ],
   "source": [
    "r.hmget(\"user:56854717\", \"gender\", \"age\")"
   ]
  },
  {
   "cell_type": "code",
   "execution_count": null,
   "metadata": {},
   "outputs": [],
   "source": []
  }
 ]
}