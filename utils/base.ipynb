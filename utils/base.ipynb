{
 "cells": [
  {
   "cell_type": "code",
   "execution_count": 2,
   "metadata": {},
   "outputs": [],
   "source": [
    "from sqlalchemy import create_engine\n",
    "import pandas as pd"
   ]
  },
  {
   "cell_type": "code",
   "execution_count": 3,
   "metadata": {},
   "outputs": [],
   "source": [
    "user = \"schedulin\"\n",
    "passw = \"MySQLIsFun\"\n",
    "host = \"35.231.228.133\"\n",
    "database = \"schedulin\""
   ]
  },
  {
   "cell_type": "code",
   "execution_count": 4,
   "metadata": {},
   "outputs": [],
   "source": [
    "db = create_engine(\n",
    "    'mysql+pymysql://{0}:{1}@{2}/{3}' \\\n",
    "        .format(user, passw, host, database), \\\n",
    "    connect_args = {'connect_timeout': 10})\n",
    "conn = db.connect()"
   ]
  },
  {
   "cell_type": "code",
   "execution_count": 5,
   "metadata": {},
   "outputs": [],
   "source": [
    "timetable_df = pd.read_sql_table(\n",
    "    \"timetable\",\n",
    "    con = conn)\n",
    "resource_df = pd.read_sql_table(\n",
    "    \"resource\",\n",
    "    con = conn)\n",
    "user_df = pd.read_sql_table(\n",
    "    \"user\",\n",
    "    con = conn)\n",
    "reservation_df = pd.read_sql_table(\n",
    "    \"reservation\",\n",
    "    con = conn)"
   ]
  },
  {
   "cell_type": "code",
   "execution_count": 6,
   "metadata": {},
   "outputs": [],
   "source": [
    "merge_1_df = resource_df.merge(timetable_df, left_on = \"timetable_id\", right_on = \"id\", suffixes=[\"_res\", \"_tim\"])\\\n",
    "    .drop(axis = 1, columns = [\n",
    "        \"creation_date_res\", \"modification_date_res\", \"id_tim\"])\\\n",
    "    .rename(columns={\"id_res\": \"resource_id\"})"
   ]
  },
  {
   "cell_type": "code",
   "execution_count": 7,
   "metadata": {},
   "outputs": [],
   "source": [
    "merge_2_df = reservation_df.merge(user_df, left_on = \"user_id\", right_on = \"id\", suffixes=[\"_rva\", \"_use\"])\\\n",
    "    .drop(axis = 1, columns = [\n",
    "        \"creation_date_rva\", \"modification_date_rva\",\n",
    "        \"creation_date_use\", \"modification_date_use\", \"id_use\"])\\\n",
    "    .rename(columns={\"id_rva\": \"reservation_id\"})"
   ]
  },
  {
   "cell_type": "code",
   "execution_count": 8,
   "metadata": {},
   "outputs": [],
   "source": [
    "merge_3_df = merge_2_df.merge(merge_1_df, on = \"resource_id\",\n",
    "                    suffixes = [\"_rva\", \"\"])\\\n",
    "    .drop(axis = 1, columns = [\n",
    "        \"deletion_date_rva\", \"deletion_date_res\",\n",
    "        \"deletion_date_tim\"])"
   ]
  },
  {
   "cell_type": "code",
   "execution_count": 9,
   "metadata": {},
   "outputs": [],
   "source": [
    "import numpy as np\n",
    "\n",
    "merge_3_df[\"is_legit\"] = np.select([\n",
    "    merge_3_df[\"date\"] > \\\n",
    "        merge_3_df[\"deletion_date_use\"]],\n",
    "    [False],\n",
    "    default = True\n",
    ")"
   ]
  },
  {
   "cell_type": "code",
   "execution_count": 10,
   "metadata": {},
   "outputs": [
    {
     "data": {
      "text/html": [
       "<div>\n",
       "<style scoped>\n",
       "    .dataframe tbody tr th:only-of-type {\n",
       "        vertical-align: middle;\n",
       "    }\n",
       "\n",
       "    .dataframe tbody tr th {\n",
       "        vertical-align: top;\n",
       "    }\n",
       "\n",
       "    .dataframe thead th {\n",
       "        text-align: right;\n",
       "    }\n",
       "</style>\n",
       "<table border=\"1\" class=\"dataframe\">\n",
       "  <thead>\n",
       "    <tr style=\"text-align: right;\">\n",
       "      <th></th>\n",
       "      <th>date</th>\n",
       "      <th>is_legit</th>\n",
       "    </tr>\n",
       "  </thead>\n",
       "  <tbody>\n",
       "    <tr>\n",
       "      <th>0</th>\n",
       "      <td>2012-11-04</td>\n",
       "      <td>11</td>\n",
       "    </tr>\n",
       "    <tr>\n",
       "      <th>1</th>\n",
       "      <td>2012-11-05</td>\n",
       "      <td>6</td>\n",
       "    </tr>\n",
       "    <tr>\n",
       "      <th>2</th>\n",
       "      <td>2012-11-06</td>\n",
       "      <td>7</td>\n",
       "    </tr>\n",
       "    <tr>\n",
       "      <th>3</th>\n",
       "      <td>2012-11-07</td>\n",
       "      <td>6</td>\n",
       "    </tr>\n",
       "    <tr>\n",
       "      <th>4</th>\n",
       "      <td>2012-11-08</td>\n",
       "      <td>11</td>\n",
       "    </tr>\n",
       "    <tr>\n",
       "      <th>...</th>\n",
       "      <td>...</td>\n",
       "      <td>...</td>\n",
       "    </tr>\n",
       "    <tr>\n",
       "      <th>3648</th>\n",
       "      <td>2022-10-31</td>\n",
       "      <td>49</td>\n",
       "    </tr>\n",
       "    <tr>\n",
       "      <th>3649</th>\n",
       "      <td>2022-11-01</td>\n",
       "      <td>56</td>\n",
       "    </tr>\n",
       "    <tr>\n",
       "      <th>3650</th>\n",
       "      <td>2022-11-02</td>\n",
       "      <td>51</td>\n",
       "    </tr>\n",
       "    <tr>\n",
       "      <th>3651</th>\n",
       "      <td>2022-11-03</td>\n",
       "      <td>56</td>\n",
       "    </tr>\n",
       "    <tr>\n",
       "      <th>3652</th>\n",
       "      <td>2022-11-04</td>\n",
       "      <td>53</td>\n",
       "    </tr>\n",
       "  </tbody>\n",
       "</table>\n",
       "<p>3653 rows × 2 columns</p>\n",
       "</div>"
      ],
      "text/plain": [
       "           date  is_legit\n",
       "0    2012-11-04        11\n",
       "1    2012-11-05         6\n",
       "2    2012-11-06         7\n",
       "3    2012-11-07         6\n",
       "4    2012-11-08        11\n",
       "...         ...       ...\n",
       "3648 2022-10-31        49\n",
       "3649 2022-11-01        56\n",
       "3650 2022-11-02        51\n",
       "3651 2022-11-03        56\n",
       "3652 2022-11-04        53\n",
       "\n",
       "[3653 rows x 2 columns]"
      ]
     },
     "execution_count": 10,
     "metadata": {},
     "output_type": "execute_result"
    }
   ],
   "source": [
    "model_df = merge_3_df.groupby([\"date\"]).sum()[[\"is_legit\"]].reset_index()\n",
    "model_df"
   ]
  }
 ],
 "metadata": {
  "kernelspec": {
   "display_name": "Python 3.7.4 64-bit",
   "language": "python",
   "name": "python3"
  },
  "language_info": {
   "codemirror_mode": {
    "name": "ipython",
    "version": 3
   },
   "file_extension": ".py",
   "mimetype": "text/x-python",
   "name": "python",
   "nbconvert_exporter": "python",
   "pygments_lexer": "ipython3",
   "version": "3.7.4"
  },
  "orig_nbformat": 4,
  "vscode": {
   "interpreter": {
    "hash": "b213cd0c7dc86fb09f7378e09d09f37ed50992d496516f682658e1f7568be4e1"
   }
  }
 },
 "nbformat": 4,
 "nbformat_minor": 2
}
