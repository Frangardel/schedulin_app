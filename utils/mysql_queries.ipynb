{
 "metadata": {
  "language_info": {
   "codemirror_mode": {
    "name": "ipython",
    "version": 3
   },
   "file_extension": ".py",
   "mimetype": "text/x-python",
   "name": "python",
   "nbconvert_exporter": "python",
   "pygments_lexer": "ipython3",
   "version": "3.9.2-final"
  },
  "orig_nbformat": 2,
  "kernelspec": {
   "name": "python3",
   "display_name": "Python 3 (ipykernel)"
  }
 },
 "nbformat": 4,
 "nbformat_minor": 2,
 "cells": [
  {
   "cell_type": "code",
   "execution_count": 2,
   "metadata": {},
   "outputs": [],
   "source": [
    "from sqlalchemy import create_engine"
   ]
  },
  {
   "cell_type": "code",
   "execution_count": 3,
   "metadata": {},
   "outputs": [],
   "source": [
    "user = \"schedulin\"\n",
    "passw = \"MySQLIsFun\"\n",
    "host = \"35.231.228.133\"\n",
    "database = \"schedulin\""
   ]
  },
  {
   "cell_type": "code",
   "execution_count": 4,
   "metadata": {},
   "outputs": [],
   "source": [
    "db = create_engine(\n",
    "    'mysql+pymysql://{0}:{1}@{2}/{3}' \\\n",
    "        .format(user, passw, host, database), \\\n",
    "    connect_args = {'connect_timeout': 10})\n",
    "conn = db.connect()"
   ]
  },
  {
   "cell_type": "code",
   "execution_count": 36,
   "metadata": {},
   "outputs": [],
   "source": [
    "def query_db(query):\n",
    "    results = conn.execute(query)\n",
    "    print(list(results.keys()))\n",
    "    print('----------------------------')\n",
    "    for r in results.fetchall():\n",
    "        print(r)"
   ]
  },
  {
   "cell_type": "code",
   "execution_count": 37,
   "metadata": {},
   "outputs": [
    {
     "output_type": "stream",
     "name": "stdout",
     "text": [
      "['Tables_in_schedulin']\n----------------------------\n('reservation',)\n('resource',)\n('timetable',)\n('user',)\n"
     ]
    }
   ],
   "source": [
    "query = \"\"\"\n",
    "    SHOW TABLES;\n",
    "\"\"\"\n",
    "query_db(query)"
   ]
  },
  {
   "cell_type": "code",
   "execution_count": 38,
   "metadata": {},
   "outputs": [
    {
     "output_type": "stream",
     "name": "stdout",
     "text": [
      "['COUNT(*)']\n----------------------------\n(69151,)\n"
     ]
    }
   ],
   "source": [
    "query = \"\"\"\n",
    "    SELECT \n",
    "        COUNT(*) \n",
    "    FROM reservation;\n",
    "\"\"\"\n",
    "query_db(query)"
   ]
  },
  {
   "cell_type": "code",
   "execution_count": 39,
   "metadata": {},
   "outputs": [
    {
     "output_type": "stream",
     "name": "stdout",
     "text": [
      "['type']\n----------------------------\n('PADEL',)\n('PISCINA',)\n('GIMNASIO',)\n('SALA COMUN',)\n"
     ]
    }
   ],
   "source": [
    "query = \"\"\"\n",
    "    SELECT \n",
    "        DISTINCT \n",
    "            type \n",
    "    FROM resource;\n",
    "\"\"\"\n",
    "query_db(query)"
   ]
  },
  {
   "cell_type": "code",
   "execution_count": 40,
   "metadata": {},
   "outputs": [
    {
     "output_type": "stream",
     "name": "stdout",
     "text": [
      "['type', 'price']\n----------------------------\n('GIMNASIO', Decimal('5.00'))\n('SALA COMUN', Decimal('5.00'))\n"
     ]
    }
   ],
   "source": [
    "query = \"\"\"\n",
    "    SELECT \n",
    "        type,\n",
    "        price    \n",
    "    FROM resource\n",
    "    WHERE price = (\n",
    "        SELECT \n",
    "            MAX(price) AS max\n",
    "        FROM resource\n",
    "        GROUP BY type\n",
    "        ORDER BY MAX(price) DESC\n",
    "        LIMIT 1);\n",
    "\"\"\"\n",
    "query_db(query)"
   ]
  },
  {
   "cell_type": "code",
   "execution_count": 41,
   "metadata": {},
   "outputs": [
    {
     "output_type": "stream",
     "name": "stdout",
     "text": [
      "['MIN(start_time)', 'MAX(end_time)']\n----------------------------\n('09:00', '22:30')\n"
     ]
    }
   ],
   "source": [
    "query = \"\"\"\n",
    "    SELECT \n",
    "        MIN(start_time), \n",
    "        MAX(end_time) \n",
    "    FROM timetable AS t \n",
    "    LEFT JOIN resource AS r \n",
    "    ON t.id = r.timetable_id \n",
    "    WHERE r.type = 'PADEL';\n",
    "\"\"\"\n",
    "query_db(query)"
   ]
  },
  {
   "cell_type": "code",
   "execution_count": 43,
   "metadata": {},
   "outputs": [
    {
     "output_type": "stream",
     "name": "stdout",
     "text": [
      "['TIMEDIFF']\n----------------------------\n(datetime.timedelta(seconds=5400),)\n"
     ]
    }
   ],
   "source": [
    "query = \"\"\"\n",
    "    SELECT \n",
    "        DISTINCT\n",
    "            TIMEDIFF(\n",
    "            STR_TO_DATE(end_time,'%%H:%%i'), \n",
    "            STR_TO_DATE(start_time,'%%H:%%i')) AS TIMEDIFF\n",
    "    FROM timetable AS t \n",
    "    LEFT JOIN resource AS r \n",
    "    ON t.id = r.timetable_id \n",
    "    WHERE r.type = 'PADEL';\n",
    "\"\"\"\n",
    "query_db(query)"
   ]
  },
  {
   "cell_type": "code",
   "execution_count": 44,
   "metadata": {},
   "outputs": [
    {
     "output_type": "stream",
     "name": "stdout",
     "text": [
      "['hours']\n----------------------------\n(Decimal('6.5714'),)\n"
     ]
    }
   ],
   "source": [
    "query = \"\"\"\n",
    "    SELECT\n",
    "        AVG(hours_in_advance) AS hours\n",
    "    FROM resource;\n",
    "\"\"\"\n",
    "query_db(query)"
   ]
  },
  {
   "cell_type": "code",
   "execution_count": 46,
   "metadata": {},
   "outputs": [
    {
     "output_type": "stream",
     "name": "stdout",
     "text": [
      "['price']\n----------------------------\n(Decimal('1.857143'),)\n"
     ]
    }
   ],
   "source": [
    "query = \"\"\"\n",
    "    SELECT\n",
    "        AVG(price) AS price\n",
    "    FROM resource;\n",
    "\"\"\"\n",
    "query_db(query)"
   ]
  },
  {
   "cell_type": "code",
   "execution_count": 47,
   "metadata": {},
   "outputs": [
    {
     "output_type": "stream",
     "name": "stdout",
     "text": [
      "['users']\n----------------------------\n(380,)\n"
     ]
    }
   ],
   "source": [
    "query = \"\"\"\n",
    "    SELECT\n",
    "    --    COUNT(DISTINCT(email)) AS users\n",
    "        COUNT(ID) AS users\n",
    "    FROM user;\n",
    "\"\"\"\n",
    "query_db(query)"
   ]
  },
  {
   "cell_type": "code",
   "execution_count": 48,
   "metadata": {},
   "outputs": [
    {
     "output_type": "stream",
     "name": "stdout",
     "text": [
      "['users']\n----------------------------\n(45,)\n"
     ]
    }
   ],
   "source": [
    "query = \"\"\"\n",
    "    SELECT\n",
    "        COUNT(ID) AS users\n",
    "    FROM user\n",
    "    WHERE status = 'INACTIVE';\n",
    "\"\"\"\n",
    "query_db(query)"
   ]
  },
  {
   "cell_type": "code",
   "execution_count": 49,
   "metadata": {},
   "outputs": [
    {
     "output_type": "stream",
     "name": "stdout",
     "text": [
      "['email']\n----------------------------\n('elizabeth.fletcher@mail.com',)\n('jorge.santos@mail.com',)\n('sandra.evans@mail.com',)\n('connor.harris@mail.com',)\n('gina.owens@mail.com',)\n('michael.bartlett@mail.com',)\n('christopher.sanders@mail.com',)\n('susan.pace@mail.com',)\n('jennifer.hayes@mail.com',)\n('jim.davis@mail.com',)\n('crystal.grant@mail.com',)\n('joseph.steele@mail.com',)\n('amanda.pope@mail.com',)\n('kevin.clark@mail.com',)\n"
     ]
    }
   ],
   "source": [
    "query = \"\"\"\n",
    "    SELECT \n",
    "        email\n",
    "    FROM user\n",
    "    WHERE deletion_date IS NOT NULL;\n",
    "\"\"\"\n",
    "query_db(query)"
   ]
  },
  {
   "cell_type": "code",
   "execution_count": 50,
   "metadata": {},
   "outputs": [
    {
     "output_type": "stream",
     "name": "stdout",
     "text": [
      "['email']\n----------------------------\n"
     ]
    }
   ],
   "source": [
    "query = \"\"\"\n",
    "    SELECT\n",
    "        email\n",
    "    FROM user\n",
    "    WHERE deletion_date IS NOT NULL\n",
    "        AND status = 'ACTIVE';\n",
    "\"\"\"\n",
    "query_db(query)"
   ]
  },
  {
   "cell_type": "code",
   "execution_count": 51,
   "metadata": {},
   "outputs": [
    {
     "output_type": "stream",
     "name": "stdout",
     "text": [
      "['DATE(deletion_date)', 'total']\n----------------------------\n(datetime.date(2018, 7, 11), 6)\n"
     ]
    }
   ],
   "source": [
    "query = \"\"\"\n",
    "    SELECT\n",
    "        DATE(deletion_date),\n",
    "        COUNT(deletion_date) AS total\n",
    "    FROM user\n",
    "    WHERE deletion_date IS NOT NULL\n",
    "    GROUP BY DATE(deletion_date)\n",
    "    LIMIT 1;\n",
    "\"\"\"\n",
    "query_db(query)"
   ]
  },
  {
   "cell_type": "code",
   "execution_count": 52,
   "metadata": {
    "tags": []
   },
   "outputs": [
    {
     "output_type": "stream",
     "name": "stdout",
     "text": [
      "['id', 'deletion_date', 'date']\n----------------------------\n(7, datetime.date(2018, 7, 11), datetime.date(2022, 9, 18))\n(7, datetime.date(2018, 7, 11), datetime.date(2022, 5, 11))\n(7, datetime.date(2018, 7, 11), datetime.date(2018, 10, 23))\n(7, datetime.date(2018, 7, 11), datetime.date(2020, 1, 29))\n(7, datetime.date(2018, 7, 11), datetime.date(2019, 1, 21))\n(7, datetime.date(2018, 7, 11), datetime.date(2020, 8, 30))\n(7, datetime.date(2018, 7, 11), datetime.date(2021, 12, 30))\n(7, datetime.date(2018, 7, 11), datetime.date(2019, 3, 8))\n(7, datetime.date(2018, 7, 11), datetime.date(2020, 1, 5))\n(7, datetime.date(2018, 7, 11), datetime.date(2022, 8, 4))\n"
     ]
    }
   ],
   "source": [
    "query = \"\"\"\n",
    "    SELECT\n",
    "        u.id, \n",
    "        u.deletion_date, \n",
    "        r.date\n",
    "    FROM (\n",
    "        SELECT id, DATE(deletion_date) AS deletion_date\n",
    "        FROM user\n",
    "        WHERE deletion_date IS NOT NULL) AS u\n",
    "    INNER JOIN (\n",
    "        SELECT *\n",
    "        FROM reservation) AS r\n",
    "    ON u.id = r.user_id\n",
    "        AND u.deletion_date < r.date\n",
    "    LIMIT 10;\n",
    "\"\"\"\n",
    "query_db(query)"
   ]
  },
  {
   "cell_type": "code",
   "execution_count": 53,
   "metadata": {},
   "outputs": [
    {
     "output_type": "stream",
     "name": "stdout",
     "text": [
      "['user_id', 'total']\n----------------------------\n(119, 251)\n"
     ]
    }
   ],
   "source": [
    "query = \"\"\"\n",
    "    SELECT \n",
    "        user_id,\n",
    "        total\n",
    "    FROM(\n",
    "    SELECT \n",
    "        user_id,\n",
    "        COUNT(user_id) AS total\n",
    "    FROM reservation\n",
    "    GROUP BY user_id) as t\n",
    "    WHERE total = (\n",
    "        SELECT\n",
    "            MAX(total) AS MAX\n",
    "        FROM (\n",
    "            SELECT \n",
    "                user_id,\n",
    "                COUNT(user_id) AS total\n",
    "            FROM reservation\n",
    "            GROUP BY user_id\n",
    "            ORDER BY total DESC\n",
    "            LIMIT 1) AS m);\n",
    "\"\"\"\n",
    "query_db(query)"
   ]
  },
  {
   "cell_type": "code",
   "execution_count": 54,
   "metadata": {},
   "outputs": [
    {
     "output_type": "stream",
     "name": "stdout",
     "text": [
      "['user_id', 'total']\n----------------------------\n(176, 55)\n"
     ]
    }
   ],
   "source": [
    "query = \"\"\"\n",
    "    SELECT\n",
    "        user_id,\n",
    "        COUNT(user_id) AS total\n",
    "    FROM reservation\n",
    "    WHERE YEAR(date) = 2022\n",
    "    GROUP BY user_id\n",
    "    ORDER BY total DESC\n",
    "    LIMIT 1;\n",
    "\"\"\"\n",
    "query_db(query)"
   ]
  },
  {
   "cell_type": "code",
   "execution_count": 55,
   "metadata": {},
   "outputs": [
    {
     "output_type": "stream",
     "name": "stdout",
     "text": [
      "['only_name', 'total']\n----------------------------\n('MD', 8)\n('Brown', 7)\n('Smith', 7)\n('Johnson', 6)\n('Jones', 6)\n('Miller', 5)\n('Harris', 4)\n('Wilson', 4)\n('Stewart', 4)\n('Jackson', 4)\n"
     ]
    }
   ],
   "source": [
    "query = \"\"\"\n",
    "    SELECT \n",
    "        only_name, \n",
    "        COUNT(only_name) AS total \n",
    "    FROM (\n",
    "        SELECT \n",
    "            name, \n",
    "            TRIM(SUBSTRING_INDEX(name, \" \", -1)) AS only_name \n",
    "        FROM user) AS m \n",
    "    GROUP BY only_name \n",
    "    ORDER BY total DESC\n",
    "    LIMIT 10;\n",
    "\"\"\"\n",
    "query_db(query)"
   ]
  },
  {
   "cell_type": "code",
   "execution_count": 58,
   "metadata": {},
   "outputs": [
    {
     "output_type": "stream",
     "name": "stdout",
     "text": [
      "['status', 'perc']\n----------------------------\n('CONFIRMED', Decimal('92.5569'))\n('CANCELLED', Decimal('5.4461'))\n('EXECUTED', Decimal('1.9971'))\n"
     ]
    }
   ],
   "source": [
    "query = \"\"\"\n",
    "    SELECT\n",
    "        status, \n",
    "        (COUNT(*) / (\n",
    "            SELECT COUNT(*)\n",
    "            FROM reservation)) * 100 AS 'perc'\n",
    "    FROM reservation \n",
    "    GROUP BY status;\n",
    "\"\"\"\n",
    "query_db(query)"
   ]
  },
  {
   "cell_type": "code",
   "execution_count": 59,
   "metadata": {},
   "outputs": [
    {
     "output_type": "stream",
     "name": "stdout",
     "text": [
      "['type', 'TOTAL']\n----------------------------\n('PADEL', 44292)\n"
     ]
    }
   ],
   "source": [
    "query = \"\"\"\n",
    "    SELECT\n",
    "        type,\n",
    "        TOTAL\n",
    "    FROM (\n",
    "        SELECT \n",
    "            RE.type,\n",
    "            COUNT(*) AS TOTAL\n",
    "        FROM (\n",
    "            SELECT \n",
    "                resource_id\n",
    "            FROM reservation) AS R\n",
    "        LEFT JOIN (\n",
    "            SELECT\n",
    "                id, type\n",
    "            FROM resource) AS RE\n",
    "        ON R.resource_id = RE.id\n",
    "        GROUP BY RE.type) AS T\n",
    "    WHERE TOTAL = (\n",
    "        SELECT \n",
    "            MAX(TOTAL)\n",
    "        FROM (\n",
    "            SELECT \n",
    "                RE.type,\n",
    "                COUNT(*) AS TOTAL\n",
    "            FROM (\n",
    "                SELECT \n",
    "                    resource_id\n",
    "                FROM reservation) AS R\n",
    "            LEFT JOIN (\n",
    "                SELECT\n",
    "                    id, type\n",
    "                FROM resource) AS RE\n",
    "            ON R.resource_id = RE.id\n",
    "            GROUP BY RE.type) AS M);\n",
    "\"\"\"\n",
    "query_db(query)"
   ]
  },
  {
   "cell_type": "code",
   "execution_count": 60,
   "metadata": {},
   "outputs": [
    {
     "output_type": "stream",
     "name": "stdout",
     "text": [
      "['type', 'TOTAL']\n----------------------------\n('PADEL', 44292)\n"
     ]
    }
   ],
   "source": [
    "query = \"\"\"\n",
    "    SELECT\n",
    "        type,\n",
    "        TOTAL\n",
    "    FROM (\n",
    "        SELECT \n",
    "            RE.type,\n",
    "            COUNT(*) AS TOTAL\n",
    "        FROM (\n",
    "            SELECT \n",
    "                resource_id\n",
    "            FROM reservation) AS R\n",
    "        LEFT JOIN (\n",
    "            SELECT\n",
    "                id, type\n",
    "            FROM resource) AS RE\n",
    "        ON R.resource_id = RE.id\n",
    "        GROUP BY RE.type) AS T\n",
    "    WHERE TOTAL = (\n",
    "            SELECT \n",
    "                COUNT(*) AS TOTAL\n",
    "            FROM (\n",
    "                SELECT \n",
    "                    resource_id\n",
    "                FROM reservation) AS R\n",
    "            LEFT JOIN (\n",
    "                SELECT\n",
    "                    id, type\n",
    "                FROM resource) AS RE\n",
    "            ON R.resource_id = RE.id\n",
    "            GROUP BY RE.type\n",
    "            LIMIT 1);\n",
    "\"\"\"\n",
    "query_db(query)"
   ]
  },
  {
   "cell_type": "code",
   "execution_count": 61,
   "metadata": {},
   "outputs": [
    {
     "output_type": "stream",
     "name": "stdout",
     "text": [
      "['start_time', 'end_time', 'TOTAL']\n----------------------------\n('10:00', '16:00', 10096)\n('16:00', '22:00', 9746)\n('18:00', '19:30', 5041)\n('10:00', '22:00', 5017)\n('09:00', '10:30', 4983)\n('16:30', '18:00', 4946)\n('21:00', '22:30', 4929)\n('15:00', '16:30', 4914)\n('13:30', '15:00', 4896)\n('10:30', '12:00', 4894)\n('19:30', '21:00', 4860)\n('12:00', '13:30', 4829)\n"
     ]
    }
   ],
   "source": [
    "query = \"\"\"\n",
    "    SELECT\n",
    "        start_time, end_time,\n",
    "        COUNT(start_time) AS TOTAL\n",
    "    FROM (\n",
    "        SELECT id, resource_id\n",
    "        FROM reservation) AS RE\n",
    "    LEFT JOIN (\n",
    "        SELECT id, timetable_id, type\n",
    "        FROM resource) AS R\n",
    "    ON RE.resource_id = R.id\n",
    "    LEFT JOIN (\n",
    "        SELECT id, start_time, end_time\n",
    "        FROM timetable) AS T\n",
    "    ON T.id = R.timetable_id\n",
    "    GROUP BY start_time, end_time\n",
    "    ORDER BY TOTAL DESC;\n",
    "\"\"\"\n",
    "query_db(query)"
   ]
  },
  {
   "cell_type": "code",
   "execution_count": 62,
   "metadata": {},
   "outputs": [
    {
     "output_type": "stream",
     "name": "stdout",
     "text": [
      "['AVG']\n----------------------------\n(Decimal('18.9299'),)\n"
     ]
    }
   ],
   "source": [
    "query = \"\"\"\n",
    "    SELECT \n",
    "       AVG(TOTAL) AS AVG\n",
    "    FROM (\n",
    "        SELECT\n",
    "            date,\n",
    "            COUNT(*) AS TOTAL\n",
    "        FROM reservation\n",
    "        GROUP BY date) AS R;\n",
    "\"\"\"\n",
    "query_db(query)"
   ]
  },
  {
   "cell_type": "code",
   "execution_count": 63,
   "metadata": {},
   "outputs": [
    {
     "output_type": "stream",
     "name": "stdout",
     "text": [
      "['G', 'TOTAL']\n----------------------------\n('MORNING', 39629)\n('EVENING', 29522)\n"
     ]
    }
   ],
   "source": [
    "query = \"\"\"\n",
    "    SELECT\n",
    "        G,\n",
    "        COUNT(*) AS TOTAL\n",
    "    FROM (\n",
    "        SELECT \n",
    "            CASE\n",
    "                WHEN STR_TO_DATE(start_time,'%%H:%%i')\n",
    "                    >= STR_TO_DATE('16:00','%%H:%%i') THEN 'EVENING'\n",
    "                ELSE 'MORNING'\n",
    "            END AS 'G'\n",
    "        FROM (\n",
    "            SELECT id, resource_id\n",
    "            FROM reservation) AS RE\n",
    "        LEFT JOIN (\n",
    "            SELECT id, timetable_id, type\n",
    "            FROM resource) AS R\n",
    "        ON RE.resource_id = R.id\n",
    "        LEFT JOIN (\n",
    "            SELECT id, start_time\n",
    "            FROM timetable) AS T\n",
    "        ON T.id = R.timetable_id) AS EM\n",
    "    GROUP BY G\n",
    "    ORDER BY TOTAL DESC;\n",
    "\"\"\"\n",
    "query_db(query)"
   ]
  },
  {
   "cell_type": "code",
   "execution_count": 64,
   "metadata": {},
   "outputs": [
    {
     "output_type": "stream",
     "name": "stdout",
     "text": [
      "['HAS_PROBLEMS', 'TOTAL']\n----------------------------\n(0, 52092)\n(1, 17059)\n"
     ]
    }
   ],
   "source": [
    "query = \"\"\"\n",
    "    SELECT\n",
    "        HAS_PROBLEMS,\n",
    "        COUNT(*) AS TOTAL\n",
    "    FROM (\n",
    "        SELECT \n",
    "            CASE\n",
    "                WHEN max_pax < num_pax THEN 1\n",
    "                ELSE 0\n",
    "            END AS 'HAS_PROBLEMS'\n",
    "        FROM (\n",
    "            SELECT id, resource_id, num_pax\n",
    "            FROM reservation) AS RE\n",
    "        LEFT JOIN (\n",
    "            SELECT id, timetable_id, max_pax\n",
    "            FROM resource) AS R\n",
    "        ON RE.resource_id = R.id) AS M\n",
    "        GROUP BY HAS_PROBLEMS\n",
    "        ORDER BY TOTAL DESC;\n",
    "\"\"\"\n",
    "query_db(query)"
   ]
  },
  {
   "cell_type": "code",
   "execution_count": 66,
   "metadata": {
    "tags": []
   },
   "outputs": [
    {
     "output_type": "stream",
     "name": "stdout",
     "text": [
      "['user_id', 'date', 'start_time', 'types_arr', 'TOTAL']\n----------------------------\n(1, datetime.date(2013, 9, 26), '12:00', 'PADEL', 2)\n(3, datetime.date(2021, 6, 8), '13:30', 'PADEL', 2)\n(3, datetime.date(2021, 6, 30), '16:00', 'GIMNASIO', 2)\n(4, datetime.date(2021, 5, 18), '10:00', 'SALA COMUN', 2)\n(7, datetime.date(2022, 4, 18), '16:00', 'GIMNASIO,PISCINA', 2)\n(12, datetime.date(2014, 8, 29), '21:00', 'PADEL', 2)\n(13, datetime.date(2016, 7, 31), '18:00', 'PADEL', 2)\n(13, datetime.date(2019, 12, 23), '15:00', 'PADEL', 2)\n(15, datetime.date(2019, 9, 5), '15:00', 'PADEL', 2)\n(15, datetime.date(2020, 1, 28), '10:00', 'GIMNASIO,SALA COMUN', 2)\n"
     ]
    }
   ],
   "source": [
    "query = \"\"\"\n",
    "    SELECT\n",
    "        user_id,\n",
    "        date,\n",
    "        start_time,\n",
    "        GROUP_CONCAT(DISTINCT type) AS 'types_arr',\n",
    "        COUNT(*) AS TOTAL\n",
    "    FROM (\n",
    "        SELECT user_id, date, start_time, type\n",
    "        FROM (\n",
    "            SELECT id, resource_id, user_id, date\n",
    "            FROM reservation\n",
    "            WHERE status IN ('CONFIRMED', 'EXECUTED')) AS RE\n",
    "        LEFT JOIN (\n",
    "            SELECT id, timetable_id, type\n",
    "            FROM resource) AS R\n",
    "        ON RE.resource_id = R.id\n",
    "        LEFT JOIN (\n",
    "            SELECT id, start_time, end_time\n",
    "            FROM timetable) AS T\n",
    "        ON T.id = R.timetable_id) AS M\n",
    "    GROUP BY user_id, date, start_time\n",
    "    HAVING TOTAL > 1\n",
    "    LIMIT 10;\n",
    "\"\"\"\n",
    "query_db(query)"
   ]
  },
  {
   "cell_type": "code",
   "execution_count": 67,
   "metadata": {},
   "outputs": [
    {
     "output_type": "stream",
     "name": "stdout",
     "text": [
      "['user_id', 'date', 'start_time', 'end_time', 'type']\n----------------------------\n(377, datetime.date(2014, 11, 19), '10:00', '16:00', 'PISCINA')\n(377, datetime.date(2014, 11, 19), '13:30', '15:00', 'PADEL')\n"
     ]
    }
   ],
   "source": [
    "query = \"\"\"\n",
    "        SELECT user_id, date, start_time, end_time, type\n",
    "        FROM (\n",
    "            SELECT id, resource_id, user_id, date\n",
    "            FROM reservation\n",
    "            WHERE status IN ('CONFIRMED', 'EXECUTED')\n",
    "                AND user_id = 377\n",
    "                AND date = '2014-11-19') AS RE\n",
    "        LEFT JOIN (\n",
    "            SELECT id, timetable_id, type\n",
    "            FROM resource) AS R\n",
    "        ON RE.resource_id = R.id\n",
    "        LEFT JOIN (\n",
    "            SELECT id, start_time, end_time\n",
    "            FROM timetable) AS T\n",
    "        ON T.id = R.timetable_id\n",
    "        ORDER BY start_time ASC\n",
    "\"\"\"\n",
    "query_db(query)"
   ]
  },
  {
   "cell_type": "code",
   "execution_count": 68,
   "metadata": {},
   "outputs": [
    {
     "output_type": "stream",
     "name": "stdout",
     "text": [
      "['user_id', 'date', 'start_time', 'end_time', 'post_start_time', 'HAS_DUP']\n----------------------------\n(380, datetime.date(2022, 5, 20), '10:00', '16:00', '13:30', 1)\n(380, datetime.date(2022, 4, 18), '10:00', '22:00', '19:30', 1)\n(380, datetime.date(2021, 2, 1), '10:00', '22:00', '10:00', 1)\n(379, datetime.date(2022, 4, 20), '10:00', '22:00', '10:00', 1)\n(379, datetime.date(2022, 1, 20), '09:00', '10:30', '10:00', 1)\n(379, datetime.date(2021, 6, 29), '10:00', '16:00', '12:00', 1)\n(378, datetime.date(2022, 3, 10), '10:00', '16:00', '12:00', 1)\n(377, datetime.date(2021, 5, 28), '15:00', '16:30', '16:00', 1)\n(377, datetime.date(2014, 11, 19), '10:00', '16:00', '13:30', 1)\n(376, datetime.date(2022, 11, 3), '10:00', '22:00', '16:30', 1)\n"
     ]
    }
   ],
   "source": [
    "# https://www.mysqltutorial.org/mysql-window-functions/mysql-lag-function/\n",
    "\n",
    "query = \"\"\"\n",
    "    SELECT *\n",
    "    FROM (\n",
    "        SELECT  user_id, date, start_time, end_time, post_start_time,\n",
    "            CASE \n",
    "                WHEN end_time > post_start_time THEN 1\n",
    "                ELSE 0\n",
    "            END HAS_DUP\n",
    "        FROM (\n",
    "            SELECT user_id, date, start_time, end_time,\n",
    "                LAG(start_time, 1) OVER (\n",
    "                    PARTITION BY user_id, date\n",
    "                    ORDER BY start_time DESC) AS post_start_time\n",
    "            FROM (\n",
    "                SELECT id, resource_id, user_id, date\n",
    "                FROM reservation\n",
    "                WHERE status IN ('CONFIRMED', 'EXECUTED')) AS RE\n",
    "            LEFT JOIN (\n",
    "                SELECT id, timetable_id, type\n",
    "                FROM resource) AS R\n",
    "            ON RE.resource_id = R.id\n",
    "            LEFT JOIN (\n",
    "                SELECT id, start_time, end_time\n",
    "                FROM timetable) AS T\n",
    "            ON T.id = R.timetable_id\n",
    "            ORDER BY user_id DESC, date DESC, start_time DESC) AS M\n",
    "        WHERE post_start_time IS NOT NULL) AS X\n",
    "    WHERE HAS_DUP = 1\n",
    "    LIMIT 10;\n",
    "\"\"\"\n",
    "query_db(query)"
   ]
  },
  {
   "cell_type": "code",
   "execution_count": 69,
   "metadata": {},
   "outputs": [
    {
     "output_type": "stream",
     "name": "stdout",
     "text": [
      "['user_id', 'TOTAL']\n----------------------------\n(119, Decimal('471.25'))\n(151, Decimal('466.00'))\n(176, Decimal('459.25'))\n(125, Decimal('446.25'))\n(144, Decimal('446.00'))\n(128, Decimal('445.75'))\n(167, Decimal('445.25'))\n(172, Decimal('444.50'))\n(180, Decimal('435.25'))\n(109, Decimal('431.00'))\n"
     ]
    }
   ],
   "source": [
    "query = \"\"\"\n",
    "\n",
    "            SELECT user_id, SUM(price) AS TOTAL\n",
    "            FROM (\n",
    "                SELECT id, resource_id, user_id, date\n",
    "                FROM reservation\n",
    "                WHERE status IN ('CONFIRMED', 'EXECUTED')) AS RE\n",
    "            LEFT JOIN (\n",
    "                SELECT id, price\n",
    "                FROM resource) AS R\n",
    "            ON RE.resource_id = R.id\n",
    "            GROUP BY user_id\n",
    "            ORDER BY TOTAL DESC\n",
    "            LIMIT 10\n",
    "\"\"\"\n",
    "query_db(query)"
   ]
  },
  {
   "cell_type": "code",
   "execution_count": 70,
   "metadata": {},
   "outputs": [
    {
     "output_type": "stream",
     "name": "stdout",
     "text": [
      "['user_id', 'TOTAL']\n----------------------------\n(244, Decimal('212.00'))\n(209, Decimal('223.00'))\n(297, Decimal('225.25'))\n(263, Decimal('226.75'))\n(291, Decimal('235.00'))\n(186, Decimal('237.25'))\n(312, Decimal('238.00'))\n(301, Decimal('238.00'))\n(289, Decimal('241.50'))\n(86, Decimal('241.75'))\n"
     ]
    }
   ],
   "source": [
    "query = \"\"\"\n",
    "\n",
    "            SELECT user_id, SUM(price) AS TOTAL\n",
    "            FROM (\n",
    "                SELECT id, resource_id, user_id, date\n",
    "                FROM reservation\n",
    "                WHERE status IN ('CONFIRMED', 'EXECUTED')) AS RE\n",
    "            LEFT JOIN (\n",
    "                SELECT id, price\n",
    "                FROM resource) AS R\n",
    "            ON RE.resource_id = R.id\n",
    "            GROUP BY user_id\n",
    "            ORDER BY TOTAL ASC\n",
    "            LIMIT 10\n",
    "\"\"\"\n",
    "query_db(query)"
   ]
  },
  {
   "cell_type": "code",
   "execution_count": 71,
   "metadata": {},
   "outputs": [
    {
     "output_type": "stream",
     "name": "stdout",
     "text": [
      "['id', 'timetable_id', 'price', 'max_pax']\n----------------------------\n(12, 11, Decimal('3.00'), 6)\n(13, 12, Decimal('5.00'), 6)\n"
     ]
    }
   ],
   "source": [
    "query = \"\"\"\n",
    "    SELECT id, timetable_id, price, max_pax\n",
    "    FROM resource\n",
    "    WHERE type = 'GIMNASIO'\n",
    "\"\"\"\n",
    "query_db(query)"
   ]
  },
  {
   "cell_type": "code",
   "execution_count": 72,
   "metadata": {},
   "outputs": [
    {
     "output_type": "stream",
     "name": "stdout",
     "text": [
      "['id', 'start_time', 'end_time']\n----------------------------\n(10, '10:00', '22:00')\n"
     ]
    }
   ],
   "source": [
    "query = \"\"\"\n",
    "    SELECT id, start_time, end_time\n",
    "    FROM timetable\n",
    "    WHERE id = 10\n",
    "\"\"\"\n",
    "query_db(query)"
   ]
  },
  {
   "cell_type": "code",
   "execution_count": 75,
   "metadata": {},
   "outputs": [
    {
     "output_type": "stream",
     "name": "stdout",
     "text": [
      "['total']\n----------------------------\n(Decimal('24090.00'),)\n"
     ]
    }
   ],
   "source": [
    "query = \"\"\"\n",
    "SELECT Y.TOTAL + Z.TOTAL AS 'total'\n",
    "FROM (\n",
    "    SELECT SUM(price) * 365 AS TOTAL\n",
    "    FROM (\n",
    "        SELECT id, price\n",
    "        FROM resource\n",
    "        WHERE type IN ('PADEL', 'SALA COMUN')) AS R) AS Y\n",
    "LEFT JOIN (\n",
    "    SELECT SUM(price * max_pax) * 365 AS TOTAL\n",
    "    FROM (\n",
    "        SELECT id, price, max_pax\n",
    "        FROM resource\n",
    "        WHERE type = 'GIMNASIO') AS P) AS Z\n",
    "ON 1 = 1;\n",
    "\"\"\"\n",
    "query_db(query)"
   ]
  },
  {
   "cell_type": "code",
   "execution_count": 76,
   "metadata": {},
   "outputs": [
    {
     "output_type": "stream",
     "name": "stdout",
     "text": [
      "['total']\n----------------------------\n(Decimal('24090.00'),)\n"
     ]
    }
   ],
   "source": [
    "query = \"\"\"\n",
    "SELECT SUM(TOTAL) AS 'total'\n",
    "FROM (\n",
    "    SELECT SUM(price) * 365 AS TOTAL\n",
    "    FROM (\n",
    "        SELECT id, price\n",
    "        FROM resource\n",
    "        WHERE type IN ('PADEL', 'SALA COMUN')) AS R\n",
    "    UNION\n",
    "    SELECT SUM(price * max_pax) * 365 AS TOTAL\n",
    "    FROM (\n",
    "        SELECT id, price, max_pax\n",
    "        FROM resource\n",
    "        WHERE type = 'GIMNASIO') AS P) AS Z;\n",
    "\"\"\"\n",
    "query_db(query)"
   ]
  },
  {
   "cell_type": "code",
   "execution_count": 77,
   "metadata": {},
   "outputs": [
    {
     "output_type": "stream",
     "name": "stdout",
     "text": [
      "['total']\n----------------------------\n(Decimal('11084.545455'),)\n"
     ]
    }
   ],
   "source": [
    "query = \"\"\"\n",
    "SELECT\n",
    "    AVG(TOTAL) AS 'total'\n",
    "FROM (\n",
    "    SELECT\n",
    "        YEAR(date) AS YEAR, \n",
    "        SUM(price) AS TOTAL\n",
    "    FROM (\n",
    "\n",
    "        SELECT date, price\n",
    "        FROM (\n",
    "            SELECT id, resource_id, date\n",
    "            FROM reservation\n",
    "            WHERE status IN ('CONFIRMED', 'EXECUTED')) AS RE\n",
    "        LEFT JOIN (\n",
    "            SELECT id, price\n",
    "            FROM resource) AS R\n",
    "        ON RE.resource_id = R.id) AS R\n",
    "    GROUP BY YEAR(date)) AS D;\n",
    "\"\"\"\n",
    "query_db(query)"
   ]
  },
  {
   "cell_type": "code",
   "execution_count": 79,
   "metadata": {
    "tags": []
   },
   "outputs": [
    {
     "output_type": "stream",
     "name": "stdout",
     "text": [
      "['date', 'type', 'price', 'total']\n----------------------------\n(datetime.date(2022, 11, 4), 'SALA COMUN', Decimal('10.00'), 2)\n(datetime.date(2022, 11, 4), 'PISCINA', Decimal('0.00'), 8)\n(datetime.date(2022, 11, 4), 'PADEL', Decimal('28.00'), 21)\n(datetime.date(2022, 11, 4), 'GIMNASIO', Decimal('39.00'), 9)\n(datetime.date(2022, 11, 3), 'SALA COMUN', Decimal('5.00'), 1)\n(datetime.date(2022, 11, 3), 'PISCINA', Decimal('0.00'), 1)\n(datetime.date(2022, 11, 3), 'PADEL', Decimal('42.00'), 36)\n(datetime.date(2022, 11, 3), 'GIMNASIO', Decimal('37.00'), 9)\n(datetime.date(2022, 11, 2), 'SALA COMUN', Decimal('10.00'), 2)\n(datetime.date(2022, 11, 2), 'PISCINA', Decimal('0.00'), 4)\n"
     ]
    }
   ],
   "source": [
    "query = \"\"\"\n",
    "        SELECT \n",
    "            date, type, SUM(price) AS 'price', COUNT(date) AS 'total'\n",
    "        FROM (\n",
    "            SELECT id, resource_id, date\n",
    "            FROM reservation\n",
    "            WHERE status IN ('CONFIRMED', 'EXECUTED')) AS RE\n",
    "        LEFT JOIN (\n",
    "            SELECT id, price, type\n",
    "            FROM resource) AS R\n",
    "        ON RE.resource_id = R.id\n",
    "        GROUP BY date, type\n",
    "        ORDER BY date DESC, type DESC\n",
    "        LIMIT 10;\n",
    "\"\"\"\n",
    "query_db(query)"
   ]
  }
 ]
}