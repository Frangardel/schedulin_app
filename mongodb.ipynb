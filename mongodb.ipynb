{
 "metadata": {
  "language_info": {
   "codemirror_mode": {
    "name": "ipython",
    "version": 3
   },
   "file_extension": ".py",
   "mimetype": "text/x-python",
   "name": "python",
   "nbconvert_exporter": "python",
   "pygments_lexer": "ipython3",
   "version": "3.9.2-final"
  },
  "orig_nbformat": 2,
  "kernelspec": {
   "name": "Python 3.9.2 64-bit",
   "display_name": "Python 3.9.2 64-bit",
   "metadata": {
    "interpreter": {
     "hash": "767d51c1340bd893661ea55ea3124f6de3c7a262a8b4abca0554b478b1e2ff90"
    }
   }
  }
 },
 "nbformat": 4,
 "nbformat_minor": 2,
 "cells": [
  {
   "source": [
    "# INTRODUCCION A MONGODB"
   ],
   "cell_type": "markdown",
   "metadata": {}
  },
  {
   "source": [
    "MongoDB es una base de datos basada en documentos con un esquema de datos dinámico. La notación de objetos de JavaScript (JSON) que admite es una opción natural para trabajar con objetos en lenguajes de programación modernos como JavaScript, Python y otros. Esto proporciona una alternativa a los sistemas de administración de bases de datos relacionales (RDBMS) más tradicionales, como SQL. MongoDB es un ejemplo de una base de datos NoSQL. Estas bases de datos suelen utilizar colecciones de documentos en lugar de las tablas utilizadas en RDBMS. Estas bases de datos admiten esquemas de bases de datos dinámicas, lo que las hace sensibles a los cambios en la estructura de los datos.\n",
    "\n",
    "Este breve manual proporciona algunos ejemplos del uso de MongoDB con Python utilizando la biblioteca pymongo. Esto concluye presentando mongoengine para trabajar con bases de datos Mongo en proyectos de software modernos y cómo convertirlos en objetos de datos para su posterior análisis."
   ],
   "cell_type": "markdown",
   "metadata": {}
  },
  {
   "source": [
    "### ESTRUCTURA\n",
    "\n",
    "La estructura de una base de datos de documentos difiere de la de una base de datos relacional que almacena datos en filas (registros) y columnas (campos).\n",
    "\n",
    "![RDBMS](https://miro.medium.com/max/720/1*krhmL3000bPZeWYDZLjoOQ.png) \n",
    "\n",
    "En esta estructura cada columna solo debe contener datos del mismo tipo. Por ejemplo, solo esperaríamos ver datos de artículos en stock en la columna de artículos en stock. Cualquier dato nuevo requeriría crear una nueva columna o una nueva tabla y luego definir una relación entre las tablas utilizando un identificador único (una clave principal) denominado clave externa en las tablas posteriores. Cambiar la estructura de estos datos, especialmente cuando ya contienen datos, puede ser más complejo y puede requerir el uso de herramientas de migración.\n",
    "\n",
    "En contraste con esto, MongoDB almacena datos como colecciones de documentos utilizando pares clave/valor:\n",
    "\n",
    "![RDBMS](https://miro.medium.com/max/602/1*LZ78OSSpNLpXsMmxkQV3Hw.png) \n",
    "\n",
    "A diferencia de las bases de datos relacionales en las que tendríamos que crear una nueva columna en una tabla para almacenar información, los datos se pueden incrustar. Esto significa que solo necesitamos almacenar lo que es relevante en lugar de crear redundancia."
   ],
   "cell_type": "markdown",
   "metadata": {}
  },
  {
   "cell_type": "code",
   "execution_count": 45,
   "metadata": {},
   "outputs": [],
   "source": [
    "import pymongo\n",
    "from urllib.parse import quote_plus\n",
    "import datetime\n",
    "import pprint as pp\n",
    "import pandas as pd"
   ]
  },
  {
   "cell_type": "code",
   "execution_count": 33,
   "metadata": {},
   "outputs": [],
   "source": [
    "user = \"schedulin\"\n",
    "passw = \"MySQLIsFun\"\n",
    "host = \"mongodb-schedulin.hlbmw0g.mongodb.net\"\n",
    "database = \"schedulin\""
   ]
  },
  {
   "source": [
    "### CONEXIONES"
   ],
   "cell_type": "markdown",
   "metadata": {}
  },
  {
   "cell_type": "code",
   "execution_count": 4,
   "metadata": {},
   "outputs": [],
   "source": [
    "def connect():\n",
    "    client = pymongo.MongoClient(\n",
    "        \"mongodb+srv://{0}:{1}@{2}/?retryWrites=true&w=majority\" \\\n",
    "            .format(user, passw, host))\n",
    "    print(\"Connected to the MongoDB database!\\nParameters: {0}\" \\\n",
    "        .format(client))\n",
    "    db = client[database]\n",
    "    return db"
   ]
  },
  {
   "cell_type": "code",
   "execution_count": 5,
   "metadata": {},
   "outputs": [
    {
     "output_type": "stream",
     "name": "stdout",
     "text": [
      "Connected to the MongoDB database!\nParameters: MongoClient(host=['ac-gshrp3d-shard-00-01.hlbmw0g.mongodb.net:27017', 'ac-gshrp3d-shard-00-00.hlbmw0g.mongodb.net:27017', 'ac-gshrp3d-shard-00-02.hlbmw0g.mongodb.net:27017'], document_class=dict, tz_aware=False, connect=True, retrywrites=True, w='majority', authsource='admin', replicaset='atlas-id34b1-shard-0', tls=True)\n"
     ]
    }
   ],
   "source": [
    "db = connect()"
   ]
  },
  {
   "source": [
    "#### COLECCIONES\n",
    "\n",
    "Podemos agregar una colección a la base de datos. Cada base de datos puede contener varias colecciones.\n",
    "\n"
   ],
   "cell_type": "markdown",
   "metadata": {}
  },
  {
   "cell_type": "code",
   "execution_count": 6,
   "metadata": {},
   "outputs": [],
   "source": [
    "users = db.users\n",
    "reservations = db.reservations"
   ]
  },
  {
   "source": [
    "#### DOCUMENTOS\n",
    "\n",
    "Luego podemos agregar algunos datos (un documento) a la colección. Digamos que queremos almacenar algunos detalles básicos sobre un usuario. Esto podría incluir su nombre, edad, .... También podemos almacenar su presión edad, que generalmente se muestra con números. En MongoDB, los campos (elementos de datos) se encapsulan entre llaves ({}) utilizando la notación de objetos de JavaScript. Cada campo consta de un par clave/valor. El nombre del campo (clave) está entre comillas seguido de dos puntos y luego el valor relacionado. Los valores textuales (datos de texto) también se encapsulan entre comillas, los números (datos numéricos) no. Los valores también pueden contener otros objetos y matrices. Las matrices pueden almacenar listas de datos y otros pares de valores clave y se indican con corchetes ([]). Aquí podemos almacenar las claves y valores para el bloque, portal, piso y puerta junto con los valores de los datos.\n",
    "\n",
    "Hay que tener en cuenta que MongoDB agrega automáticamente un ObjectId para identificar de forma única cada documento. Esta es una cadena hexadecimal de 12 bytes que consta de una marca de tiempo, un valor generado aleatoriamente y un contador incremental. Estas identificaciones se muestran cuando se envían datos. También puede anular esto proporcionando sus propios valores para el campo \"_id\" si es necesario.\n"
   ],
   "cell_type": "markdown",
   "metadata": {}
  },
  {
   "cell_type": "code",
   "execution_count": 31,
   "metadata": {},
   "outputs": [
    {
     "output_type": "stream",
     "name": "stdout",
     "text": [
      "6366b29cc5b6129baf54cfef\n"
     ]
    }
   ],
   "source": [
    "user = {\n",
    "    \"name\": \"Mike Platinas\",\n",
    "    \"email\": \"mike.platinas@mail.com\",\n",
    "    \"status\": \"ACTIVE\",\n",
    "    \"interests\": [\n",
    "        \"SWIMMING\", \"CYCLING\", \n",
    "    ],\n",
    "    \"creation_date\": datetime.datetime.utcnow(),\n",
    "    \"location\": {\n",
    "        \"block\": \"B\",\n",
    "        \"gate\": \"C\",\n",
    "        \"floor\": 2,\n",
    "        \"door\": \"C\"}}\n",
    "user_id = users.insert_one(user).inserted_id\n",
    "print(user_id)"
   ]
  },
  {
   "cell_type": "code",
   "execution_count": 32,
   "metadata": {},
   "outputs": [
    {
     "output_type": "stream",
     "name": "stdout",
     "text": [
      "6366b2b2c5b6129baf54cff0\n"
     ]
    }
   ],
   "source": [
    "user = {\n",
    "    \"name\": \"Jonh Doe\",\n",
    "    \"email\": \"john.doe@mail.com\",\n",
    "    \"status\": \"ACTIVE\",\n",
    "    \"interests\": [\n",
    "        \"PADELING\", \"CYCLING\", \n",
    "    ],\n",
    "    \"creation_date\": datetime.datetime.utcnow(),\n",
    "    \"location\": {\n",
    "        \"block\": \"B\",\n",
    "        \"gate\": \"A\",\n",
    "        \"floor\": 7,\n",
    "        \"door\": \"A\"}}\n",
    "user_id = users.insert_one(user).inserted_id\n",
    "print(user_id)"
   ]
  },
  {
   "cell_type": "code",
   "execution_count": 33,
   "metadata": {},
   "outputs": [
    {
     "output_type": "stream",
     "name": "stdout",
     "text": [
      "6366b2c9c5b6129baf54cff1\n"
     ]
    }
   ],
   "source": [
    "user = {\n",
    "    \"name\": \"Jake Sparrow\",\n",
    "    \"email\": \"jake.sparrow@mail.com\",\n",
    "    \"status\": \"INACTIVE\",\n",
    "    \"creation_date\": datetime.datetime.utcnow(),\n",
    "    \"location\": {\n",
    "        \"block\": \"A\",\n",
    "        \"gate\": \"C\",\n",
    "        \"floor\": 1,\n",
    "        \"door\": \"A\"}}\n",
    "user_id = users.insert_one(user).inserted_id\n",
    "print(user_id)"
   ]
  },
  {
   "cell_type": "code",
   "execution_count": 21,
   "metadata": {},
   "outputs": [
    {
     "output_type": "execute_result",
     "data": {
      "text/plain": [
       "bson.objectid.ObjectId"
      ]
     },
     "metadata": {},
     "execution_count": 21
    }
   ],
   "source": [
    "type(user_id)"
   ]
  },
  {
   "cell_type": "code",
   "execution_count": 22,
   "metadata": {},
   "outputs": [],
   "source": [
    "str_user_id = str(user_id)"
   ]
  },
  {
   "cell_type": "code",
   "execution_count": 23,
   "metadata": {},
   "outputs": [
    {
     "output_type": "stream",
     "name": "stdout",
     "text": [
      "None\n"
     ]
    }
   ],
   "source": [
    "pp.pprint(users.find_one({\"_id\": str_user_id}))"
   ]
  },
  {
   "source": [
    "#### FIND ONE DOCUMENT\n",
    "\n",
    "Ver los datos de esta manera hace que sea bastante difícil de leer, especialmente si tiene muchos campos y documentos para generar. Afortunadamente, Python tiene una bonita biblioteca de impresión para tal propósito. Si modificamos el código para importar la biblioteca y usamos la función de pprint."
   ],
   "cell_type": "markdown",
   "metadata": {}
  },
  {
   "cell_type": "code",
   "execution_count": 24,
   "metadata": {},
   "outputs": [
    {
     "output_type": "stream",
     "name": "stdout",
     "text": [
      "{'_id': ObjectId('63650237ec395898e8884e11'),\n 'creation_date': datetime.datetime(2022, 11, 4, 12, 14, 47, 638000),\n 'email': 'mike.platinas@mail.com',\n 'name': 'Mike Platinas',\n 'status': 'ACTIVE'}\n"
     ]
    }
   ],
   "source": [
    "from bson.objectid import ObjectId\n",
    "\n",
    "pp.pprint(users.find_one({\"_id\": ObjectId(str_user_id)}))"
   ]
  },
  {
   "cell_type": "code",
   "execution_count": 18,
   "metadata": {},
   "outputs": [
    {
     "output_type": "stream",
     "name": "stdout",
     "text": [
      "{'_id': ObjectId('63650237ec395898e8884e11'),\n 'creation_date': datetime.datetime(2022, 11, 4, 12, 14, 47, 638000),\n 'email': 'mike.platinas@mail.com',\n 'name': 'Mike Platinas',\n 'status': 'ACTIVE'}\n"
     ]
    }
   ],
   "source": [
    "pp.pprint(users.find_one({\"_id\": user_id}))"
   ]
  },
  {
   "source": [
    "#### SHOW COLLECTION LIST"
   ],
   "cell_type": "markdown",
   "metadata": {}
  },
  {
   "cell_type": "code",
   "execution_count": 25,
   "metadata": {},
   "outputs": [
    {
     "output_type": "stream",
     "name": "stdout",
     "text": [
      "['users']\n"
     ]
    }
   ],
   "source": [
    "print(db.list_collection_names())"
   ]
  },
  {
   "source": [
    "#### CREATE MULTIPLE DOCUMENTS"
   ],
   "cell_type": "markdown",
   "metadata": {}
  },
  {
   "cell_type": "code",
   "execution_count": 7,
   "metadata": {},
   "outputs": [
    {
     "output_type": "stream",
     "name": "stdout",
     "text": [
      "6366b871a72f5f099a4f6765\n6366b871a72f5f099a4f6766\n6366b871a72f5f099a4f6767\n"
     ]
    }
   ],
   "source": [
    "reservation_lst = [\n",
    "    {\"email\": \"mike.platinas@mail.com\",\n",
    "    \"resource\": \"PADEL\",\n",
    "    \"timetables\": {\n",
    "        \"start_time\": \"11:00\", \n",
    "        \"end_time\": \"12:30\"},\n",
    "    \"price\": 3,\n",
    "    \"date\": datetime.datetime(year = 2022, month = 10, day = 31),\n",
    "    \"creation_date\": datetime.datetime.utcnow()},\n",
    "    {\"email\": \"mike.platinas@mail.com\",\n",
    "    \"resource\": \"PADEL\",\n",
    "    \"timetables\": {\n",
    "        \"start_time\": \"12:30\", \n",
    "        \"end_time\": \"14:00\"},\n",
    "    \"price\": 5,\n",
    "    \"date\": datetime.datetime(year = 2022, month = 10, day = 31),\n",
    "    \"creation_date\": datetime.datetime.utcnow()},\n",
    "    {\"email\": \"john.doe@mail.com\",\n",
    "    \"resource\": \"PISCINA\",\n",
    "    \"timetables\": {\n",
    "        \"start_time\": \"16:00\"},\n",
    "    \"date\": datetime.datetime(year = 2022, month = 11, day = 1),\n",
    "    \"creation_date\": datetime.datetime.utcnow()}]\n",
    "result = reservations.insert_many(reservation_lst)\n",
    "for result in result.inserted_ids:\n",
    "    print(result)"
   ]
  },
  {
   "cell_type": "code",
   "execution_count": 6,
   "metadata": {},
   "outputs": [
    {
     "output_type": "stream",
     "name": "stdout",
     "text": [
      "['users', 'reservations']\n"
     ]
    }
   ],
   "source": [
    "print(db.list_collection_names())"
   ]
  },
  {
   "source": [
    "#### COUNT DOCUMENTS IN A COLLECTION"
   ],
   "cell_type": "markdown",
   "metadata": {}
  },
  {
   "cell_type": "code",
   "execution_count": 16,
   "metadata": {},
   "outputs": [
    {
     "output_type": "execute_result",
     "data": {
      "text/plain": [
       "4"
      ]
     },
     "metadata": {},
     "execution_count": 16
    }
   ],
   "source": [
    "reservations.count_documents({})"
   ]
  },
  {
   "cell_type": "code",
   "execution_count": 17,
   "metadata": {},
   "outputs": [
    {
     "output_type": "execute_result",
     "data": {
      "text/plain": [
       "2"
      ]
     },
     "metadata": {},
     "execution_count": 17
    }
   ],
   "source": [
    "reservations.count_documents({\"resource\": \"PADEL\"})"
   ]
  },
  {
   "cell_type": "code",
   "execution_count": 10,
   "metadata": {},
   "outputs": [
    {
     "output_type": "stream",
     "name": "stdout",
     "text": [
      "6366b97aa72f5f099a4f6769\n"
     ]
    }
   ],
   "source": [
    "reservation = {\n",
    "    \"email\": \"mike.platinas@mail.com\",\n",
    "    \"resource\": \"PISCINA\",\n",
    "    \"timetables\": {\n",
    "        \"start_time\": \"16:00\"},\n",
    "    \"price\": 1,\n",
    "    \"date\": datetime.datetime(year = 2022, month = 10, day = 31),\n",
    "    \"creation_date\": datetime.datetime.utcnow()}  \n",
    "reservation_id = reservations.insert_one(reservation).inserted_id\n",
    "print(reservation_id)"
   ]
  },
  {
   "cell_type": "code",
   "execution_count": 38,
   "metadata": {},
   "outputs": [
    {
     "output_type": "execute_result",
     "data": {
      "text/plain": [
       "3"
      ]
     },
     "metadata": {},
     "execution_count": 38
    }
   ],
   "source": [
    "reservations.count_documents({})"
   ]
  },
  {
   "source": [
    "#### QUERIES\n",
    "\n",
    "Hay varios métodos para consultar datos. Todos los métodos usan la función find(). Se puede proporcionar una consulta seguida del campo o campos que desea devolver en el formulario del tipo: **colección.find({ < consulta > }, { < campos > })**.\n",
    "\n",
    "![OPERATORS](https://miro.medium.com/max/640/1*S4uhMlJ173rK_qOoN25j8Q.png)  \n",
    "![LOGICALS](https://miro.medium.com/max/640/1*uR9igCWQyngNY0cNnLpMJg.png)"
   ],
   "cell_type": "markdown",
   "metadata": {}
  },
  {
   "cell_type": "code",
   "execution_count": 39,
   "metadata": {},
   "outputs": [
    {
     "output_type": "stream",
     "name": "stdout",
     "text": [
      "{'_id': ObjectId('6365240b049404598640efb1'),\n 'creation_date': datetime.datetime(2022, 11, 4, 14, 39, 7, 389000),\n 'date': datetime.datetime(2022, 10, 31, 0, 0),\n 'email': 'mike.platinas@mail.com',\n 'resource': 'PADEL',\n 'timetables': {'end_time': '12:30', 'start_time': '11:00'}}\n{'_id': ObjectId('6365240b049404598640efb2'),\n 'creation_date': datetime.datetime(2022, 11, 4, 14, 39, 7, 389000),\n 'date': datetime.datetime(2022, 10, 31, 0, 0),\n 'email': 'mike.platinas@mail.com',\n 'resource': 'PADEL',\n 'timetables': {'end_time': '14:00', 'start_time': '12:30'}}\n{'_id': ObjectId('6365240b049404598640efb3'),\n 'creation_date': datetime.datetime(2022, 11, 4, 14, 39, 7, 389000),\n 'date': datetime.datetime(2022, 11, 1, 0, 0),\n 'email': 'mike.platinas@mail.com',\n 'resource': 'PISCINA',\n 'timetables': {'start_time': '16:00'}}\n"
     ]
    }
   ],
   "source": [
    "for reservation in reservations.find():\n",
    "    pp.pprint(reservation)"
   ]
  },
  {
   "cell_type": "code",
   "execution_count": 21,
   "metadata": {},
   "outputs": [
    {
     "output_type": "stream",
     "name": "stdout",
     "text": [
      "{'_id': ObjectId('6366b871a72f5f099a4f6766'),\n 'creation_date': datetime.datetime(2022, 11, 5, 19, 24, 33, 878000),\n 'date': datetime.datetime(2022, 10, 31, 0, 0),\n 'email': 'mike.platinas@mail.com',\n 'price': 5,\n 'resource': 'PADEL',\n 'timetables': {'end_time': '14:00', 'start_time': '12:30'}}\n{'_id': ObjectId('6366b871a72f5f099a4f6765'),\n 'creation_date': datetime.datetime(2022, 11, 5, 19, 24, 33, 878000),\n 'date': datetime.datetime(2022, 10, 31, 0, 0),\n 'email': 'mike.platinas@mail.com',\n 'price': 3,\n 'resource': 'PADEL',\n 'timetables': {'end_time': '12:30', 'start_time': '11:00'}}\n"
     ]
    }
   ],
   "source": [
    "for reservation in reservations.find().sort(\"timetables.end_time\", -1).limit(2):\n",
    "    pp.pprint(reservation)"
   ]
  },
  {
   "cell_type": "code",
   "execution_count": 11,
   "metadata": {},
   "outputs": [
    {
     "output_type": "stream",
     "name": "stdout",
     "text": [
      "{'_id': ObjectId('63651a71049404598640efb0'),\n 'creation_date': datetime.datetime(2022, 11, 4, 13, 58, 9, 5000),\n 'date': datetime.datetime(2022, 11, 1, 0, 0),\n 'email': 'mike.platinas@mail.com',\n 'resource': 'PISCINA',\n 'timetables': ['16:00', '22:00']}\n"
     ]
    }
   ],
   "source": [
    "for reservation in reservations.find({\"resource\": \"PISCINA\"}):\n",
    "    pp.pprint(reservation)"
   ]
  },
  {
   "cell_type": "code",
   "execution_count": 14,
   "metadata": {},
   "outputs": [
    {
     "output_type": "stream",
     "name": "stdout",
     "text": [
      "{'_id': ObjectId('63651a71049404598640efae'),\n 'creation_date': datetime.datetime(2022, 11, 4, 13, 58, 9, 5000),\n 'date': datetime.datetime(2022, 10, 31, 0, 0),\n 'email': 'mike.platinas@mail.com',\n 'resource': 'PADEL',\n 'timetables': ['11:00', '12:30']}\n{'_id': ObjectId('63651a71049404598640efaf'),\n 'creation_date': datetime.datetime(2022, 11, 4, 13, 58, 9, 5000),\n 'date': datetime.datetime(2022, 10, 31, 0, 0),\n 'email': 'mike.platinas@mail.com',\n 'resource': 'PADEL',\n 'timetables': ['12:30', '14:00']}\n"
     ]
    }
   ],
   "source": [
    "d = datetime.datetime(2022, 11, 1)\n",
    "for reservation in reservations.find({\"date\": {\"$lt\": d}}).sort(\"author\"):\n",
    "    pp.pprint(reservation)"
   ]
  },
  {
   "cell_type": "code",
   "execution_count": 57,
   "metadata": {},
   "outputs": [
    {
     "output_type": "stream",
     "name": "stdout",
     "text": [
      "{'_id': ObjectId('636524f3049404598640efb4'),\n 'creation_date': datetime.datetime(2022, 11, 4, 14, 42, 59, 354000),\n 'email': 'mike.platinas@mail.com',\n 'interests': ['SWIMMING', 'CYCLING'],\n 'name': 'Mike Platinas',\n 'status': 'ACTIVE'}\n{'_id': ObjectId('63652538049404598640efb5'),\n 'creation_date': datetime.datetime(2022, 11, 4, 14, 44, 8, 663000),\n 'email': 'john.doe@mail.com',\n 'interests': ['PADELING', 'CYCLING'],\n 'name': 'Jonh Doe',\n 'status': 'ACTIVE'}\n{'_id': ObjectId('6365271b049404598640efb6'),\n 'creation_date': datetime.datetime(2022, 11, 4, 14, 52, 11, 343000),\n 'email': 'jake.sparrow@mail.com',\n 'name': 'Jake Sparrow',\n 'status': 'INACTIVE'}\n"
     ]
    }
   ],
   "source": [
    "for user in users.find():\n",
    "    pp.pprint(user)"
   ]
  },
  {
   "cell_type": "code",
   "execution_count": 17,
   "metadata": {},
   "outputs": [
    {
     "output_type": "stream",
     "name": "stdout",
     "text": [
      "{'_id': ObjectId('6365240b049404598640efb3'),\n 'creation_date': datetime.datetime(2022, 11, 4, 14, 39, 7, 389000),\n 'date': datetime.datetime(2022, 11, 1, 0, 0),\n 'email': 'john.doe@mail.com',\n 'resource': 'SWIMMING POOL',\n 'timetables': {'start_time': '16:00'}}\n"
     ]
    }
   ],
   "source": [
    "d = datetime.datetime(2022, 10, 31)\n",
    "for reservation in reservations.find({\"date\": {\"$gt\": d}}):\n",
    "    pp.pprint(reservation)"
   ]
  },
  {
   "cell_type": "code",
   "execution_count": 18,
   "metadata": {},
   "outputs": [
    {
     "output_type": "stream",
     "name": "stdout",
     "text": [
      "{'_id': ObjectId('6365240b049404598640efb3'), 'email': 'john.doe@mail.com'}\n"
     ]
    }
   ],
   "source": [
    "d = datetime.datetime(2022, 10, 31)\n",
    "for reservation in reservations.find(\n",
    "    {\"date\": {\"$gt\": d}}, \n",
    "    {\"email\"}):\n",
    "    pp.pprint(reservation)"
   ]
  },
  {
   "cell_type": "code",
   "execution_count": 19,
   "metadata": {},
   "outputs": [
    {
     "output_type": "stream",
     "name": "stdout",
     "text": [
      "{'_id': ObjectId('6365240b049404598640efb3'),\n 'timetables': {'start_time': '16:00'}}\n"
     ]
    }
   ],
   "source": [
    "d = datetime.datetime(2022, 10, 31)\n",
    "for reservation in reservations.find(\n",
    "    {\"date\": {\"$gt\": d}}, \n",
    "    {\"timetables.start_time\"}):\n",
    "    pp.pprint(reservation)"
   ]
  },
  {
   "cell_type": "code",
   "execution_count": 27,
   "metadata": {},
   "outputs": [
    {
     "output_type": "stream",
     "name": "stdout",
     "text": [
      "{'_id': ObjectId('6365240b049404598640efb1'),\n 'date': datetime.datetime(2022, 10, 31, 0, 0),\n 'email': 'mike.platinas@mail.com',\n 'timetables': {'start_time': '11:00'}}\n{'_id': ObjectId('6365240b049404598640efb2'),\n 'date': datetime.datetime(2022, 10, 31, 0, 0),\n 'email': 'mike.platinas@mail.com',\n 'timetables': {'start_time': '12:30'}}\n"
     ]
    }
   ],
   "source": [
    "d = datetime.datetime(2022, 10, 30)\n",
    "for reservation in reservations.find({\n",
    "     \"$and\" : [\n",
    "        {\"date\": {\"$gt\": d}},\n",
    "        {\"timetables.end_time\": {\"$lt\": '14:30'}}]},\n",
    "    {\"timetables.start_time\", \"email\", \"date\"}\n",
    "        \n",
    "        ):\n",
    "    pp.pprint(reservation)"
   ]
  },
  {
   "source": [
    "#### Agregaciones\n",
    "\n",
    "A menudo, cuando trabajamos con datos, no solo queremos extraer subconjuntos de datos mediante consultas, sino que queremos producir nueva información a partir de los datos existentes. Esto a menudo implica realizar varios cálculos, como encontrar el promedio o la suma de algún valor. Por ejemplo, el salario medio de los empleados.  \n",
    "\n",
    "Pasamos una matriz a la función agregada. El parámetro **$unwind** se usa para deconstruir la matriz de calificaciones para generar un documento para cada elemento. A continuación, usamos el parámetro **$match** que incluye todo (usando llaves de apertura y cierre). Podríamos filtrar más aquí proporcionando criterios adicionales. A continuación, usamos el parámetro **$group** para agrupar los datos a los que queremos aplicar el cálculo. Finalmente, creamos una nueva clave a la que aplicamos un parámetro como puede ser **$avg** entre otros."
   ],
   "cell_type": "markdown",
   "metadata": {}
  },
  {
   "cell_type": "code",
   "execution_count": 16,
   "metadata": {},
   "outputs": [
    {
     "output_type": "stream",
     "name": "stdout",
     "text": [
      "{'Avg': 1.0, '_id': {'resource': 'PISCINA'}}\n{'Avg': 4.0, '_id': {'resource': 'PADEL'}}\n"
     ]
    }
   ],
   "source": [
    "pipeline = [\n",
    "    {\"$unwind\": \"$price\"},\n",
    "    {\"$group\": {\"_id\": {\"resource\": \"$resource\"}, \"Avg\": {\"$avg\": \"$price\"}}},\n",
    "    {\"$sort\": {\"Avg\": 1}}\n",
    "]\n",
    "for r in list(db.reservations.aggregate(pipeline)):\n",
    "    pp.pprint(r)"
   ]
  },
  {
   "cell_type": "code",
   "execution_count": 14,
   "metadata": {},
   "outputs": [
    {
     "output_type": "stream",
     "name": "stdout",
     "text": [
      "{'Avg': 4.0, '_id': {'resource': 'PADEL'}}\n"
     ]
    }
   ],
   "source": [
    "pipeline = [\n",
    "    {\"$match\" : { \"resource\": \"PADEL\"}},\n",
    "    {\"$unwind\": \"$price\"},\n",
    "    {\"$group\": {\"_id\": {\"resource\": \"$resource\"}, \"Avg\": {\"$avg\": \"$price\"}}},\n",
    "]\n",
    "for r in list(db.reservations.aggregate(pipeline)):\n",
    "    pp.pprint(r)"
   ]
  },
  {
   "cell_type": "code",
   "execution_count": 73,
   "metadata": {},
   "outputs": [
    {
     "output_type": "stream",
     "name": "stdout",
     "text": [
      "{'Main interest': 'SWIMMING', '_id': {'name': 'Mike Platinas'}}\n{'Main interest': 'PADELING', '_id': {'name': 'Jonh Doe'}}\n"
     ]
    }
   ],
   "source": [
    "pipeline = [\n",
    "    {\"$match\" : { \"status\": \"ACTIVE\"}},\n",
    "    {\"$unwind\": \"$interests\"},\n",
    "    {\"$group\": {\"_id\": {\"name\": \"$name\"}, \"Main interest\": {\"$first\": \"$interests\"}}},\n",
    "    {\"$project\": {\"_id\": 1, \"Main interest\": 1}}\n",
    "]\n",
    "for r in list(db.users.aggregate(pipeline)):\n",
    "    pp.pprint(r)"
   ]
  },
  {
   "cell_type": "code",
   "execution_count": 14,
   "metadata": {},
   "outputs": [],
   "source": [
    "pipeline = [\n",
    "    {\"$match\" : {\"$and\" : [{\"status\": \"ACTIVE\"},{\"status\": \"INACTIVE\"}]}},\n",
    "    {\"$unwind\": \"$interests\"},\n",
    "    {\"$group\": {\"_id\": {\"name\": \"$name\"}, \"Main interest\": {\"$first\": \"$interests\"}}},\n",
    "    {\"$project\": {\"_id\": 1, \"Main interest\": 1}}\n",
    "]\n",
    "for r in list(db.users.aggregate(pipeline)):\n",
    "    pp.pprint(r)"
   ]
  },
  {
   "cell_type": "code",
   "execution_count": 76,
   "metadata": {},
   "outputs": [
    {
     "output_type": "stream",
     "name": "stdout",
     "text": [
      "[{'_id': '16:00', 'count': 2},\n {'_id': '12:30', 'count': 1},\n {'_id': '11:00', 'count': 1}]\n"
     ]
    }
   ],
   "source": [
    "from bson.son import SON\n",
    "\n",
    "pipeline = [\n",
    "    {\"$unwind\": '$timetables' },\n",
    "    {\"$group\": {\"_id\": '$timetables.start_time', \"count\": {\"$sum\": 1}}},\n",
    "    {\"$sort\": SON([(\"count\", -1), (\"_id\", -1)])},\n",
    "]\n",
    "pp.pprint(list(db.reservations.aggregate(pipeline)))"
   ]
  },
  {
   "source": [
    "#### ACTUALIZACIONES DE DATOS\n",
    "\n",
    "También es posible que deseemos actualizar los datos que hemos agregado previamente a una colección. De nuevo, podemos actualizar uno o varios registros. Digamos que agregamos accidentalmente un email erroneo a un usuario. Aquí podemos usar la función update_one pasando el campo que queremos actualizar buscando el par clave/valor y luego usamos la opción $set (precedida por un signo de dólar) especificando la clave y el nuevo valor . Esto sobrescribirá el valor inicial con el nuevo."
   ],
   "cell_type": "markdown",
   "metadata": {}
  },
  {
   "cell_type": "code",
   "execution_count": 83,
   "metadata": {},
   "outputs": [
    {
     "output_type": "stream",
     "name": "stdout",
     "text": [
      "{'_id': ObjectId('6365271b049404598640efb6'),\n 'creation_date': datetime.datetime(2022, 11, 4, 14, 52, 11, 343000),\n 'email': 'jake.sparrow@mail.com',\n 'name': 'Jake Sparrow',\n 'status': 'INACTIVE'}\n"
     ]
    }
   ],
   "source": [
    "users = db.users\n",
    "for user in users.find({\"email\": \"jake.sparrow@mail.com\"}):\n",
    "    pp.pprint(user)"
   ]
  },
  {
   "cell_type": "code",
   "execution_count": 84,
   "metadata": {},
   "outputs": [
    {
     "output_type": "execute_result",
     "data": {
      "text/plain": [
       "<pymongo.results.UpdateResult at 0x7f2aa08889a0>"
      ]
     },
     "metadata": {},
     "execution_count": 84
    }
   ],
   "source": [
    "to_search = {\"email\": \"jake.sparrow@mail.com\"}\n",
    "to_change = {\"$set\": {\n",
    "    \"name\": \"Jack Horton\",\n",
    "    \"email\": \"jack.horton@mail.com\"}}\n",
    "\n",
    "users.update_one(to_search, to_change)"
   ]
  },
  {
   "cell_type": "code",
   "execution_count": 85,
   "metadata": {},
   "outputs": [],
   "source": [
    "users = db.users\n",
    "for user in users.find({\"email\": \"jake.sparrow@mail.com\"}):\n",
    "    pp.pprint(user)"
   ]
  },
  {
   "cell_type": "code",
   "execution_count": 95,
   "metadata": {},
   "outputs": [
    {
     "output_type": "stream",
     "name": "stdout",
     "text": [
      "{'_id': ObjectId('6365240b049404598640efb3'),\n 'creation_date': datetime.datetime(2022, 11, 4, 14, 39, 7, 389000),\n 'date': datetime.datetime(2022, 11, 1, 0, 0),\n 'email': 'john.doe@mail.com',\n 'resource': 'PISCINA',\n 'timetables': {'start_time': '16:00'}}\n{'_id': ObjectId('63652936049404598640efb7'),\n 'creation_date': datetime.datetime(2022, 11, 4, 15, 1, 10, 167000),\n 'date': datetime.datetime(2022, 10, 31, 0, 0),\n 'email': 'mike.platinas@mail.com',\n 'resource': 'PISCINA',\n 'timetables': {'start_time': '16:00'}}\n"
     ]
    }
   ],
   "source": [
    "reservations = db.reservations\n",
    "for reservation in reservations.find({\"resource\": {\"$regex\": \"^PISCINA\"}}):\n",
    "    pp.pprint(reservation)"
   ]
  },
  {
   "cell_type": "code",
   "execution_count": 96,
   "metadata": {},
   "outputs": [
    {
     "output_type": "stream",
     "name": "stdout",
     "text": [
      "2  documents updated.\n"
     ]
    }
   ],
   "source": [
    "to_search = {\"resource\": {\"$regex\": \"^PISCINA\"}}\n",
    "to_change = {\"$set\": {\"resource\": \"SWIMMING POOL\"}}\n",
    "\n",
    "num = reservations.update_many(to_search, to_change)\n",
    "print(num.modified_count, \" documents updated.\")"
   ]
  },
  {
   "cell_type": "code",
   "execution_count": 97,
   "metadata": {},
   "outputs": [
    {
     "output_type": "stream",
     "name": "stdout",
     "text": [
      "{'_id': ObjectId('6365240b049404598640efb3'),\n 'creation_date': datetime.datetime(2022, 11, 4, 14, 39, 7, 389000),\n 'date': datetime.datetime(2022, 11, 1, 0, 0),\n 'email': 'john.doe@mail.com',\n 'resource': 'SWIMMING POOL',\n 'timetables': {'start_time': '16:00'}}\n{'_id': ObjectId('63652936049404598640efb7'),\n 'creation_date': datetime.datetime(2022, 11, 4, 15, 1, 10, 167000),\n 'date': datetime.datetime(2022, 10, 31, 0, 0),\n 'email': 'mike.platinas@mail.com',\n 'resource': 'SWIMMING POOL',\n 'timetables': {'start_time': '16:00'}}\n"
     ]
    }
   ],
   "source": [
    "reservations = db.reservations\n",
    "for reservation in reservations.find({\"resource\": {\"$regex\": \"^SWIM\"}}):\n",
    "    pp.pprint(reservation)"
   ]
  },
  {
   "source": [
    "#### JOINS o LOOKUPS"
   ],
   "cell_type": "markdown",
   "metadata": {}
  },
  {
   "cell_type": "code",
   "execution_count": 16,
   "metadata": {},
   "outputs": [
    {
     "output_type": "stream",
     "name": "stdout",
     "text": [
      "{'_id': ObjectId('6365240b049404598640efb1'),\n 'creation_date': datetime.datetime(2022, 11, 4, 14, 39, 7, 389000),\n 'date': datetime.datetime(2022, 10, 31, 0, 0),\n 'email': 'mike.platinas@mail.com',\n 'resource': 'PADEL',\n 'timetables': {'end_time': '12:30', 'start_time': '11:00'},\n 'user': [{'_id': ObjectId('636524f3049404598640efb4'),\n           'creation_date': datetime.datetime(2022, 11, 4, 14, 42, 59, 354000),\n           'email': 'mike.platinas@mail.com',\n           'interests': ['SWIMMING', 'CYCLING'],\n           'name': 'Mike Platinas',\n           'status': 'ACTIVE'}]}\n{'_id': ObjectId('6365240b049404598640efb2'),\n 'creation_date': datetime.datetime(2022, 11, 4, 14, 39, 7, 389000),\n 'date': datetime.datetime(2022, 10, 31, 0, 0),\n 'email': 'mike.platinas@mail.com',\n 'resource': 'PADEL',\n 'timetables': {'end_time': '14:00', 'start_time': '12:30'},\n 'user': [{'_id': ObjectId('636524f3049404598640efb4'),\n           'creation_date': datetime.datetime(2022, 11, 4, 14, 42, 59, 354000),\n           'email': 'mike.platinas@mail.com',\n           'interests': ['SWIMMING', 'CYCLING'],\n           'name': 'Mike Platinas',\n           'status': 'ACTIVE'}]}\n"
     ]
    }
   ],
   "source": [
    "reservations = db.reservations\n",
    "\n",
    "pipeline = [\n",
    "    {\n",
    "        '$lookup': {\n",
    "            'from': 'users', \n",
    "            'localField': 'email', \n",
    "            'foreignField': 'email', \n",
    "            'as': 'user'}},\n",
    "    {\n",
    "        '$match':\n",
    "                 {'resource' : 'PADEL',}}\n",
    "]\n",
    "\n",
    "for r in reservations.aggregate(pipeline):\n",
    "    pp.pprint(r)"
   ]
  },
  {
   "source": [
    "#### INDEXES"
   ],
   "cell_type": "markdown",
   "metadata": {}
  },
  {
   "cell_type": "code",
   "execution_count": 25,
   "metadata": {},
   "outputs": [
    {
     "output_type": "execute_result",
     "data": {
      "text/plain": [
       "{'_id_': {'v': 2, 'key': [('_id', 1)]}}"
      ]
     },
     "metadata": {},
     "execution_count": 25
    }
   ],
   "source": [
    "reservations.index_information()"
   ]
  },
  {
   "cell_type": "code",
   "execution_count": 26,
   "metadata": {},
   "outputs": [
    {
     "output_type": "stream",
     "name": "stdout",
     "text": [
      "{'allPlansExecution': [],\n 'executionStages': {'advanced': 2,\n                     'direction': 'forward',\n                     'docsExamined': 4,\n                     'executionTimeMillisEstimate': 0,\n                     'filter': {'resource': {'$eq': 'PADEL'}},\n                     'isEOF': 1,\n                     'nReturned': 2,\n                     'needTime': 3,\n                     'needYield': 0,\n                     'restoreState': 0,\n                     'saveState': 0,\n                     'stage': 'COLLSCAN',\n                     'works': 6},\n 'executionSuccess': True,\n 'executionTimeMillis': 0,\n 'nReturned': 2,\n 'totalDocsExamined': 4,\n 'totalKeysExamined': 0}\n"
     ]
    }
   ],
   "source": [
    "pp.pprint(reservations.find({'resource':'PADEL'}).explain()['executionStats'])"
   ]
  },
  {
   "cell_type": "code",
   "execution_count": 27,
   "metadata": {},
   "outputs": [
    {
     "output_type": "execute_result",
     "data": {
      "text/plain": [
       "'resource_1'"
      ]
     },
     "metadata": {},
     "execution_count": 27
    }
   ],
   "source": [
    "reservations.create_index('resource')"
   ]
  },
  {
   "cell_type": "code",
   "execution_count": 28,
   "metadata": {},
   "outputs": [
    {
     "output_type": "execute_result",
     "data": {
      "text/plain": [
       "{'_id_': {'v': 2, 'key': [('_id', 1)]},\n",
       " 'resource_1': {'v': 2, 'key': [('resource', 1)]}}"
      ]
     },
     "metadata": {},
     "execution_count": 28
    }
   ],
   "source": [
    "reservations.index_information()"
   ]
  },
  {
   "cell_type": "code",
   "execution_count": 29,
   "metadata": {},
   "outputs": [
    {
     "output_type": "stream",
     "name": "stdout",
     "text": [
      "{'allPlansExecution': [],\n 'executionStages': {'advanced': 2,\n                     'alreadyHasObj': 0,\n                     'docsExamined': 2,\n                     'executionTimeMillisEstimate': 0,\n                     'inputStage': {'advanced': 2,\n                                    'direction': 'forward',\n                                    'dupsDropped': 0,\n                                    'dupsTested': 0,\n                                    'executionTimeMillisEstimate': 0,\n                                    'indexBounds': {'resource': ['[\"PADEL\", '\n                                                                 '\"PADEL\"]']},\n                                    'indexName': 'resource_1',\n                                    'indexVersion': 2,\n                                    'isEOF': 1,\n                                    'isMultiKey': False,\n                                    'isPartial': False,\n                                    'isSparse': False,\n                                    'isUnique': False,\n                                    'keyPattern': {'resource': 1},\n                                    'keysExamined': 2,\n                                    'multiKeyPaths': {'resource': []},\n                                    'nReturned': 2,\n                                    'needTime': 0,\n                                    'needYield': 0,\n                                    'restoreState': 0,\n                                    'saveState': 0,\n                                    'seeks': 1,\n                                    'stage': 'IXSCAN',\n                                    'works': 3},\n                     'isEOF': 1,\n                     'nReturned': 2,\n                     'needTime': 0,\n                     'needYield': 0,\n                     'restoreState': 0,\n                     'saveState': 0,\n                     'stage': 'FETCH',\n                     'works': 3},\n 'executionSuccess': True,\n 'executionTimeMillis': 1,\n 'nReturned': 2,\n 'totalDocsExamined': 2,\n 'totalKeysExamined': 2}\n"
     ]
    }
   ],
   "source": [
    "pp.pprint(reservations.find({'resource':'PADEL'}).explain()['executionStats'])"
   ]
  },
  {
   "source": [
    "URL de consulta: https://towardsdatascience.com/using-mongo-databases-in-python-e93bc3b6ff5f"
   ],
   "cell_type": "markdown",
   "metadata": {}
  },
  {
   "cell_type": "code",
   "execution_count": 30,
   "metadata": {},
   "outputs": [
    {
     "output_type": "stream",
     "name": "stdout",
     "text": [
      "Collecting mongoengine\n",
      "  Downloading mongoengine-0.24.2-py3-none-any.whl (108 kB)\n",
      "\u001b[K     |████████████████████████████████| 108 kB 10.6 MB/s \n",
      "\u001b[?25hRequirement already satisfied: pymongo<5.0,>=3.4 in /home/gustavo_martin/.local/lib/python3.9/site-packages (from mongoengine) (4.1.1)\n",
      "Installing collected packages: mongoengine\n",
      "Successfully installed mongoengine-0.24.2\n"
     ]
    }
   ],
   "source": [
    "!pip3 install mongoengine"
   ]
  },
  {
   "cell_type": "code",
   "execution_count": 38,
   "metadata": {},
   "outputs": [
    {
     "output_type": "execute_result",
     "data": {
      "text/plain": [
       "MongoClient(host=['mongodb-schedulin.hlbmw0g.mongodb.net:27017'], document_class=dict, tz_aware=False, connect=True, read_preference=Primary(), uuidrepresentation=3)"
      ]
     },
     "metadata": {},
     "execution_count": 38
    }
   ],
   "source": [
    "import mongoengine\n",
    "\n",
    "mongoengine.disconnect()\n",
    "mongoengine.connect(host = \"mongodb://{0}:{1}@{2}:27017/{3}\" \\\n",
    "    .format(user, passw, host, database))"
   ]
  },
  {
   "cell_type": "code",
   "execution_count": 49,
   "metadata": {},
   "outputs": [],
   "source": [
    "class User(mongoengine.Document):\n",
    "    user_id = StringField(required = True)\n",
    "    name = StringField()\n",
    "    status = StringField()\n",
    "    interests = ListField()\n",
    "    creation_date = DateTimeField()\n",
    "    location = DictField()"
   ]
  },
  {
   "cell_type": "code",
   "execution_count": 41,
   "metadata": {},
   "outputs": [
    {
     "output_type": "execute_result",
     "data": {
      "text/plain": [
       "[{'_id': ObjectId('6366b29cc5b6129baf54cfef'),\n",
       "  'name': 'Mike Platinas',\n",
       "  'email': 'mike.platinas@mail.com',\n",
       "  'status': 'ACTIVE',\n",
       "  'interests': ['SWIMMING', 'CYCLING'],\n",
       "  'creation_date': datetime.datetime(2022, 11, 5, 18, 59, 40, 791000),\n",
       "  'location': {'block': 'B', 'gate': 'C', 'floor': 2, 'door': 'C'}},\n",
       " {'_id': ObjectId('6366b2b2c5b6129baf54cff0'),\n",
       "  'name': 'Jonh Doe',\n",
       "  'email': 'john.doe@mail.com',\n",
       "  'status': 'ACTIVE',\n",
       "  'interests': ['PADELING', 'CYCLING'],\n",
       "  'creation_date': datetime.datetime(2022, 11, 5, 19, 0, 2, 944000),\n",
       "  'location': {'block': 'B', 'gate': 'A', 'floor': 7, 'door': 'A'}},\n",
       " {'_id': ObjectId('6366b2c9c5b6129baf54cff1'),\n",
       "  'name': 'Jake Sparrow',\n",
       "  'email': 'jake.sparrow@mail.com',\n",
       "  'status': 'INACTIVE',\n",
       "  'creation_date': datetime.datetime(2022, 11, 5, 19, 0, 25, 294000),\n",
       "  'location': {'block': 'A', 'gate': 'C', 'floor': 1, 'door': 'A'}}]"
      ]
     },
     "metadata": {},
     "execution_count": 41
    }
   ],
   "source": [
    "users_data = users.find()\n",
    "users_lst = list(users_data)\n",
    "users_lst"
   ]
  },
  {
   "cell_type": "code",
   "execution_count": 50,
   "metadata": {},
   "outputs": [],
   "source": [
    "users_df = pd.DataFrame.from_dict(users_lst)"
   ]
  },
  {
   "cell_type": "code",
   "execution_count": 51,
   "metadata": {},
   "outputs": [
    {
     "output_type": "stream",
     "name": "stdout",
     "text": [
      "<class 'pandas.core.frame.DataFrame'>\nRangeIndex: 3 entries, 0 to 2\nData columns (total 7 columns):\n #   Column         Non-Null Count  Dtype         \n---  ------         --------------  -----         \n 0   _id            3 non-null      object        \n 1   name           3 non-null      object        \n 2   email          3 non-null      object        \n 3   status         3 non-null      object        \n 4   interests      2 non-null      object        \n 5   creation_date  3 non-null      datetime64[ns]\n 6   location       3 non-null      object        \ndtypes: datetime64[ns](1), object(6)\nmemory usage: 296.0+ bytes\n"
     ]
    }
   ],
   "source": [
    "users_df.info()"
   ]
  },
  {
   "cell_type": "code",
   "execution_count": 52,
   "metadata": {},
   "outputs": [
    {
     "output_type": "execute_result",
     "data": {
      "text/plain": [
       "                        _id           name                   email    status  \\\n",
       "0  6366b29cc5b6129baf54cfef  Mike Platinas  mike.platinas@mail.com    ACTIVE   \n",
       "1  6366b2b2c5b6129baf54cff0       Jonh Doe       john.doe@mail.com    ACTIVE   \n",
       "2  6366b2c9c5b6129baf54cff1   Jake Sparrow   jake.sparrow@mail.com  INACTIVE   \n",
       "\n",
       "             interests           creation_date  \\\n",
       "0  [SWIMMING, CYCLING] 2022-11-05 18:59:40.791   \n",
       "1  [PADELING, CYCLING] 2022-11-05 19:00:02.944   \n",
       "2                  NaN 2022-11-05 19:00:25.294   \n",
       "\n",
       "                                            location  \n",
       "0  {'block': 'B', 'gate': 'C', 'floor': 2, 'door'...  \n",
       "1  {'block': 'B', 'gate': 'A', 'floor': 7, 'door'...  \n",
       "2  {'block': 'A', 'gate': 'C', 'floor': 1, 'door'...  "
      ],
      "text/html": "<div>\n<style scoped>\n    .dataframe tbody tr th:only-of-type {\n        vertical-align: middle;\n    }\n\n    .dataframe tbody tr th {\n        vertical-align: top;\n    }\n\n    .dataframe thead th {\n        text-align: right;\n    }\n</style>\n<table border=\"1\" class=\"dataframe\">\n  <thead>\n    <tr style=\"text-align: right;\">\n      <th></th>\n      <th>_id</th>\n      <th>name</th>\n      <th>email</th>\n      <th>status</th>\n      <th>interests</th>\n      <th>creation_date</th>\n      <th>location</th>\n    </tr>\n  </thead>\n  <tbody>\n    <tr>\n      <th>0</th>\n      <td>6366b29cc5b6129baf54cfef</td>\n      <td>Mike Platinas</td>\n      <td>mike.platinas@mail.com</td>\n      <td>ACTIVE</td>\n      <td>[SWIMMING, CYCLING]</td>\n      <td>2022-11-05 18:59:40.791</td>\n      <td>{'block': 'B', 'gate': 'C', 'floor': 2, 'door'...</td>\n    </tr>\n    <tr>\n      <th>1</th>\n      <td>6366b2b2c5b6129baf54cff0</td>\n      <td>Jonh Doe</td>\n      <td>john.doe@mail.com</td>\n      <td>ACTIVE</td>\n      <td>[PADELING, CYCLING]</td>\n      <td>2022-11-05 19:00:02.944</td>\n      <td>{'block': 'B', 'gate': 'A', 'floor': 7, 'door'...</td>\n    </tr>\n    <tr>\n      <th>2</th>\n      <td>6366b2c9c5b6129baf54cff1</td>\n      <td>Jake Sparrow</td>\n      <td>jake.sparrow@mail.com</td>\n      <td>INACTIVE</td>\n      <td>NaN</td>\n      <td>2022-11-05 19:00:25.294</td>\n      <td>{'block': 'A', 'gate': 'C', 'floor': 1, 'door'...</td>\n    </tr>\n  </tbody>\n</table>\n</div>"
     },
     "metadata": {},
     "execution_count": 52
    }
   ],
   "source": [
    "users_df.head()"
   ]
  },
  {
   "cell_type": "code",
   "execution_count": 55,
   "metadata": {},
   "outputs": [
    {
     "output_type": "execute_result",
     "data": {
      "text/plain": [
       "                        _id           name                   email  status  \\\n",
       "0  6366b29cc5b6129baf54cfef  Mike Platinas  mike.platinas@mail.com  ACTIVE   \n",
       "1  6366b2b2c5b6129baf54cff0       Jonh Doe       john.doe@mail.com  ACTIVE   \n",
       "\n",
       "             interests           creation_date  \\\n",
       "0  [SWIMMING, CYCLING] 2022-11-05 18:59:40.791   \n",
       "1  [PADELING, CYCLING] 2022-11-05 19:00:02.944   \n",
       "\n",
       "                                            location  \n",
       "0  {'block': 'B', 'gate': 'C', 'floor': 2, 'door'...  \n",
       "1  {'block': 'B', 'gate': 'A', 'floor': 7, 'door'...  "
      ],
      "text/html": "<div>\n<style scoped>\n    .dataframe tbody tr th:only-of-type {\n        vertical-align: middle;\n    }\n\n    .dataframe tbody tr th {\n        vertical-align: top;\n    }\n\n    .dataframe thead th {\n        text-align: right;\n    }\n</style>\n<table border=\"1\" class=\"dataframe\">\n  <thead>\n    <tr style=\"text-align: right;\">\n      <th></th>\n      <th>_id</th>\n      <th>name</th>\n      <th>email</th>\n      <th>status</th>\n      <th>interests</th>\n      <th>creation_date</th>\n      <th>location</th>\n    </tr>\n  </thead>\n  <tbody>\n    <tr>\n      <th>0</th>\n      <td>6366b29cc5b6129baf54cfef</td>\n      <td>Mike Platinas</td>\n      <td>mike.platinas@mail.com</td>\n      <td>ACTIVE</td>\n      <td>[SWIMMING, CYCLING]</td>\n      <td>2022-11-05 18:59:40.791</td>\n      <td>{'block': 'B', 'gate': 'C', 'floor': 2, 'door'...</td>\n    </tr>\n    <tr>\n      <th>1</th>\n      <td>6366b2b2c5b6129baf54cff0</td>\n      <td>Jonh Doe</td>\n      <td>john.doe@mail.com</td>\n      <td>ACTIVE</td>\n      <td>[PADELING, CYCLING]</td>\n      <td>2022-11-05 19:00:02.944</td>\n      <td>{'block': 'B', 'gate': 'A', 'floor': 7, 'door'...</td>\n    </tr>\n  </tbody>\n</table>\n</div>"
     },
     "metadata": {},
     "execution_count": 55
    }
   ],
   "source": [
    "users_df[users_df[\"status\"] == 'ACTIVE']"
   ]
  },
  {
   "cell_type": "code",
   "execution_count": null,
   "metadata": {},
   "outputs": [],
   "source": []
  }
 ]
}